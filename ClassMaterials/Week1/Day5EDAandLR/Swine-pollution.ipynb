{
 "cells": [
  {
   "cell_type": "code",
   "execution_count": 1,
   "id": "f80a44de",
   "metadata": {},
   "outputs": [],
   "source": [
    "#create lists of observations \n",
    "x=[0.38,0.5,0.6,0.75,0.95,1.2,1.4,1.65,1.8,1.85]\n",
    "y=[0.13,0.21,0.29,0.22,0.19,0.26,0.36,0.37,0.33,0.38]"
   ]
  },
  {
   "cell_type": "code",
   "execution_count": 2,
   "id": "e5a862f6",
   "metadata": {},
   "outputs": [],
   "source": [
    "import scipy.stats as stats"
   ]
  },
  {
   "cell_type": "code",
   "execution_count": 3,
   "id": "523c46e5",
   "metadata": {},
   "outputs": [
    {
     "data": {
      "text/plain": [
       "(0.8503956567400843, 0.0018221270235810624)"
      ]
     },
     "execution_count": 3,
     "metadata": {},
     "output_type": "execute_result"
    }
   ],
   "source": [
    "stats.pearsonr(x,y)\n",
    "#gives correlation coefficient and p value"
   ]
  },
  {
   "cell_type": "code",
   "execution_count": 6,
   "id": "e0d6ac57",
   "metadata": {},
   "outputs": [],
   "source": [
    "import seaborn as sns "
   ]
  },
  {
   "cell_type": "code",
   "execution_count": 7,
   "id": "33067753",
   "metadata": {},
   "outputs": [
    {
     "data": {
      "image/png": "[encoded data removed]",
      "text/plain": [
       "<Figure size 432x288 with 1 Axes>"
      ]
     },
     "metadata": {
      "needs_background": "light"
     },
     "output_type": "display_data"
    }
   ],
   "source": [
    "ax = sns.regplot(x=x, y=y, color=\"g\")"
   ]
  },
  {
   "cell_type": "code",
   "execution_count": 4,
   "id": "ce7291f1",
   "metadata": {},
   "outputs": [],
   "source": [
    "import numpy as np"
   ]
  },
  {
   "cell_type": "code",
   "execution_count": 5,
   "id": "04363584",
   "metadata": {},
   "outputs": [],
   "source": [
    "#create a 2d array from the two variables in order to use it in linear_model\n",
    "xa=np.array(x).reshape(-1, 1)\n",
    "ya=np.array(y).reshape(-1, 1)"
   ]
  },
  {
   "cell_type": "code",
   "execution_count": 8,
   "id": "4913386f",
   "metadata": {},
   "outputs": [],
   "source": [
    "from sklearn import linear_model"
   ]
  },
  {
   "cell_type": "code",
   "execution_count": 9,
   "id": "fee84316",
   "metadata": {},
   "outputs": [],
   "source": [
    "lm=linear_model.LinearRegression()"
   ]
  },
  {
   "cell_type": "code",
   "execution_count": 11,
   "id": "1a117b6b",
   "metadata": {},
   "outputs": [
    {
     "data": {
      "text/plain": [
       "0.7231727730023992"
      ]
     },
     "execution_count": 11,
     "metadata": {},
     "output_type": "execute_result"
    }
   ],
   "source": [
    "# fit the model to our data (only numerical data)\n",
    "line=lm.fit(xa,ya)\n",
    " \n",
    "# calculate a score to evaluate how good the linear model is at explaining the variation in the data \n",
    "#- for the linear model the 'score'=R2 score when we are not seeking to assess predictions against actuals\n",
    "lm.score(xa,ya)"
   ]
  },
  {
   "cell_type": "code",
   "execution_count": 12,
   "id": "21f85e7c",
   "metadata": {},
   "outputs": [
    {
     "name": "stdout",
     "output_type": "stream",
     "text": [
      "[0.12716896]\n",
      "[[0.13251899]]\n"
     ]
    }
   ],
   "source": [
    "#other useful information on the model\n",
    "print(lm.intercept_)\n",
    "print(lm.coef_)"
   ]
  },
  {
   "cell_type": "code",
   "execution_count": 13,
   "id": "aa58ee86",
   "metadata": {},
   "outputs": [
    {
     "data": {
      "text/plain": [
       "array([[0.31693615]])"
      ]
     },
     "execution_count": 13,
     "metadata": {},
     "output_type": "execute_result"
    }
   ],
   "source": [
    "#use the model to predict a single y based on a single x \n",
    "lm.predict(np.array([[1.432,]]))"
   ]
  },
  {
   "cell_type": "code",
   "execution_count": null,
   "id": "3020a665",
   "metadata": {},
   "outputs": [],
   "source": []
  }
 ],
 "metadata": {
  "kernelspec": {
   "display_name": "Python 3 (ipykernel)",
   "language": "python",
   "name": "python3"
  },
  "language_info": {
   "codemirror_mode": {
    "name": "ipython",
    "version": 3
   },
   "file_extension": ".py",
   "mimetype": "text/x-python",
   "name": "python",
   "nbconvert_exporter": "python",
   "pygments_lexer": "ipython3",
   "version": "3.9.7"
  }
 },
 "nbformat": 4,
 "nbformat_minor": 5
}
