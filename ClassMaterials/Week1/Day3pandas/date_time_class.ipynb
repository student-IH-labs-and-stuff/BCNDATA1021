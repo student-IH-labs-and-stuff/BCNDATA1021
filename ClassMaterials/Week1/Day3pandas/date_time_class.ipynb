{
 "cells": [
  {
   "cell_type": "markdown",
   "id": "59d90a62",
   "metadata": {},
   "source": [
    "## working with date and time "
   ]
  },
  {
   "cell_type": "code",
   "execution_count": null,
   "id": "d908b95e",
   "metadata": {},
   "outputs": [],
   "source": [
    "import pandas as pd \n",
    "import numpy as np "
   ]
  },
  {
   "cell_type": "code",
   "execution_count": null,
   "id": "21b91af9",
   "metadata": {},
   "outputs": [],
   "source": [
    "import time \n",
    "from datetime import date "
   ]
  },
  {
   "cell_type": "markdown",
   "id": "52bc62b3",
   "metadata": {},
   "source": [
    "### use date time libraries to gather current time and date "
   ]
  },
  {
   "cell_type": "code",
   "execution_count": null,
   "id": "9ee28393",
   "metadata": {},
   "outputs": [],
   "source": [
    "time.localtime()"
   ]
  },
  {
   "cell_type": "code",
   "execution_count": null,
   "id": "fbe865a6",
   "metadata": {},
   "outputs": [],
   "source": [
    "date.today()"
   ]
  },
  {
   "cell_type": "markdown",
   "id": "ff624872",
   "metadata": {},
   "source": [
    "### use date time in a data source "
   ]
  },
  {
   "cell_type": "code",
   "execution_count": null,
   "id": "690ba2e8",
   "metadata": {},
   "outputs": [],
   "source": [
    "df=pd.read_csv('air_quality_no2_long.csv')"
   ]
  },
  {
   "cell_type": "markdown",
   "id": "6b37ed38",
   "metadata": {},
   "source": [
    "#### explore data "
   ]
  },
  {
   "cell_type": "code",
   "execution_count": null,
   "id": "04dc625e",
   "metadata": {},
   "outputs": [],
   "source": [
    "df.head()"
   ]
  },
  {
   "cell_type": "code",
   "execution_count": null,
   "id": "bc061b08",
   "metadata": {},
   "outputs": [],
   "source": [
    "df.info()"
   ]
  },
  {
   "cell_type": "code",
   "execution_count": null,
   "id": "64d62e31",
   "metadata": {},
   "outputs": [],
   "source": [
    "df['city'].unique()"
   ]
  },
  {
   "cell_type": "markdown",
   "id": "32f8a0a1",
   "metadata": {},
   "source": [
    "- as we can see the date time field is not stored as a date \n",
    "- its currently an object (ie string)\n",
    "- we call a pandas function to parse this field as a date time "
   ]
  },
  {
   "cell_type": "code",
   "execution_count": null,
   "id": "166b509a",
   "metadata": {},
   "outputs": [],
   "source": [
    "df['date.utc']=pd.to_datetime(df['date.utc'],errors='coerce')"
   ]
  },
  {
   "cell_type": "code",
   "execution_count": null,
   "id": "13ca13dc",
   "metadata": {},
   "outputs": [],
   "source": [
    "df.info()"
   ]
  },
  {
   "cell_type": "markdown",
   "id": "8c5bbf9b",
   "metadata": {},
   "source": [
    "- once this field is a date we can call the date time library \n",
    "- this gives us access to parts of the date - eg month, day \n",
    "- this means we can create new columns based on those dates \n",
    "- then we can aggregate up to the date period - eg what was the avg pollution level per month\n"
   ]
  },
  {
   "cell_type": "code",
   "execution_count": null,
   "id": "84a2e9ac",
   "metadata": {},
   "outputs": [],
   "source": [
    "#choosing a row, identifying the month \n",
    "df['date.utc'][1000].month"
   ]
  },
  {
   "cell_type": "code",
   "execution_count": null,
   "id": "ef1d8cd7",
   "metadata": {},
   "outputs": [],
   "source": [
    "#create a month column \n",
    "df['month']=pd.DatetimeIndex(df['date.utc']).month"
   ]
  },
  {
   "cell_type": "code",
   "execution_count": null,
   "id": "bacb2417",
   "metadata": {},
   "outputs": [],
   "source": [
    "#create a weekday (number) column \n",
    "df['weekday']=pd.DatetimeIndex(df['date.utc']).weekday"
   ]
  },
  {
   "cell_type": "code",
   "execution_count": null,
   "id": "89305ebb",
   "metadata": {},
   "outputs": [],
   "source": [
    "#replace that with a weekday name \n",
    "df['weekday']=df['date.utc'].dt.strftime('%a')"
   ]
  },
  {
   "cell_type": "markdown",
   "id": "401ddf79",
   "metadata": {},
   "source": [
    "strftime formulas - special characters to set date formatting\n",
    "\n",
    "[cheatsheet here](https://strftime.org/)"
   ]
  },
  {
   "cell_type": "code",
   "execution_count": null,
   "id": "1ae729e0",
   "metadata": {},
   "outputs": [],
   "source": [
    "#check the data again \n",
    "df.head()"
   ]
  }
 ],
 "metadata": {
  "kernelspec": {
   "display_name": "Python 3 (ipykernel)",
   "language": "python",
   "name": "python3"
  },
  "language_info": {
   "codemirror_mode": {
    "name": "ipython",
    "version": 3
   },
   "file_extension": ".py",
   "mimetype": "text/x-python",
   "name": "python",
   "nbconvert_exporter": "python",
   "pygments_lexer": "ipython3",
   "version": "3.9.7"
  },
  "toc": {
   "base_numbering": 1,
   "nav_menu": {},
   "number_sections": true,
   "sideBar": true,
   "skip_h1_title": false,
   "title_cell": "Table of Contents",
   "title_sidebar": "Contents",
   "toc_cell": false,
   "toc_position": {},
   "toc_section_display": true,
   "toc_window_display": false
  }
 },
 "nbformat": 4,
 "nbformat_minor": 5
}
