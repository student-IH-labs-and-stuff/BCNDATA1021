{
 "cells": [
  {
   "cell_type": "markdown",
   "id": "595b0eb8",
   "metadata": {},
   "source": [
    "## Intro to Pandas - part 2"
   ]
  },
  {
   "cell_type": "markdown",
   "id": "732a8608",
   "metadata": {},
   "source": [
    "#### NUMPY and PANDAS "
   ]
  },
  {
   "cell_type": "code",
   "execution_count": null,
   "id": "89e80f9f",
   "metadata": {},
   "outputs": [],
   "source": [
    "#import libraries \n",
    "import numpy as np \n",
    "import pandas as pd "
   ]
  },
  {
   "cell_type": "code",
   "execution_count": null,
   "id": "f7437c09",
   "metadata": {},
   "outputs": [],
   "source": [
    "#check whats in my current working directory \n",
    "#!ls"
   ]
  },
  {
   "cell_type": "code",
   "execution_count": null,
   "id": "b4d6ee6b",
   "metadata": {},
   "outputs": [],
   "source": [
    "pwd"
   ]
  },
  {
   "cell_type": "code",
   "execution_count": null,
   "id": "fc2f00aa",
   "metadata": {},
   "outputs": [],
   "source": [
    "cd '/Users/siandavies/Documents/working'"
   ]
  },
  {
   "cell_type": "code",
   "execution_count": null,
   "id": "cfd9f16f",
   "metadata": {},
   "outputs": [],
   "source": [
    "#move to a sub directory to check i have the files \n",
    "#cd Healthcare"
   ]
  },
  {
   "cell_type": "code",
   "execution_count": null,
   "id": "25fb37c3",
   "metadata": {},
   "outputs": [],
   "source": [
    "#check the files are there and their names\n",
    "#!ls"
   ]
  },
  {
   "cell_type": "code",
   "execution_count": null,
   "id": "31dbfd34",
   "metadata": {},
   "outputs": [],
   "source": [
    "#move up one directory (to working folder) \n",
    "#cd .."
   ]
  },
  {
   "cell_type": "code",
   "execution_count": null,
   "id": "b6e491e9",
   "metadata": {},
   "outputs": [],
   "source": [
    "#read the first file - its a csv\n",
    "file1=pd.read_csv('Healthcare/file1.csv')"
   ]
  },
  {
   "cell_type": "code",
   "execution_count": null,
   "id": "6e922907",
   "metadata": {},
   "outputs": [],
   "source": [
    "#check the file \n",
    "file1.shape"
   ]
  },
  {
   "cell_type": "code",
   "execution_count": null,
   "id": "f0aa2ba4",
   "metadata": {},
   "outputs": [],
   "source": [
    "#review the numeric properties and stats \n",
    "file1.describe()"
   ]
  },
  {
   "cell_type": "code",
   "execution_count": null,
   "id": "c513ebf7",
   "metadata": {},
   "outputs": [],
   "source": [
    "#look at the info -including the nulls \n",
    "file1.info()"
   ]
  },
  {
   "cell_type": "code",
   "execution_count": null,
   "id": "cf7542a5",
   "metadata": {},
   "outputs": [],
   "source": [
    "#review the top few rows \n",
    "file1.head()"
   ]
  },
  {
   "cell_type": "code",
   "execution_count": null,
   "id": "a144c8e6",
   "metadata": {},
   "outputs": [],
   "source": [
    "#read the second file in - its a txt file, tab separated \n",
    "file2=pd.read_csv('Healthcare/file2.txt',sep='\\t')"
   ]
  },
  {
   "cell_type": "code",
   "execution_count": null,
   "id": "2333e875",
   "metadata": {},
   "outputs": [],
   "source": [
    "#check the file \n",
    "file2.head()"
   ]
  },
  {
   "cell_type": "code",
   "execution_count": null,
   "id": "ea9d3ee5",
   "metadata": {},
   "outputs": [],
   "source": [
    "#check the same number of columns in the two files. \n",
    "# we could also check the headers are matching !\n",
    "file2.shape"
   ]
  },
  {
   "cell_type": "code",
   "execution_count": null,
   "id": "f2e3adb8",
   "metadata": {},
   "outputs": [],
   "source": [
    "file1.shape"
   ]
  },
  {
   "cell_type": "code",
   "execution_count": null,
   "id": "e38c9504",
   "metadata": {},
   "outputs": [],
   "source": [
    "#read the file 3 - its an excel\n",
    "file3=pd.read_excel('Healthcare/file3.xlsx',engine='openpyxl')"
   ]
  },
  {
   "cell_type": "code",
   "execution_count": null,
   "id": "0b443ca1",
   "metadata": {},
   "outputs": [],
   "source": [
    "#same for file4 \n",
    "file4=pd.read_excel('Healthcare/file4.xlsx',engine='openpyxl')"
   ]
  },
  {
   "cell_type": "code",
   "execution_count": null,
   "id": "064eaae4",
   "metadata": {},
   "outputs": [],
   "source": [
    "#for excel you might need an extra package. \n",
    "#i am checking to see if installed\n",
    "#if not installed, then I close down jupyter, go to the terminal \n",
    "#and install the package with conda install openpyxl \n",
    "#!conda install openpyxl"
   ]
  },
  {
   "cell_type": "code",
   "execution_count": null,
   "id": "35be6c4e",
   "metadata": {},
   "outputs": [],
   "source": [
    "#set column headers - this is not always necessary, but its good practice\n",
    "columns=file1.columns"
   ]
  },
  {
   "cell_type": "code",
   "execution_count": null,
   "id": "473b4d2d",
   "metadata": {},
   "outputs": [],
   "source": [
    "#check the variable \n",
    "columns"
   ]
  },
  {
   "cell_type": "code",
   "execution_count": null,
   "id": "457270ac",
   "metadata": {},
   "outputs": [],
   "source": [
    "#create data frame \n",
    "data=pd.DataFrame(columns=columns)"
   ]
  },
  {
   "cell_type": "code",
   "execution_count": null,
   "id": "31b77d1d",
   "metadata": {},
   "outputs": [],
   "source": [
    "data"
   ]
  },
  {
   "cell_type": "code",
   "execution_count": null,
   "id": "a587e142",
   "metadata": {},
   "outputs": [],
   "source": [
    "#join the data frame with the first file \n",
    "data=pd.concat([data,file1],axis=0)"
   ]
  },
  {
   "cell_type": "code",
   "execution_count": null,
   "id": "9b65996c",
   "metadata": {},
   "outputs": [],
   "source": [
    "#join the data frame with the other files \n",
    "data=pd.concat([data,file2,file3,file4],axis=0)"
   ]
  },
  {
   "cell_type": "code",
   "execution_count": null,
   "id": "87f53f50",
   "metadata": {},
   "outputs": [],
   "source": [
    "#check the data frame - should be 4028 rows \n",
    "data.info()"
   ]
  },
  {
   "cell_type": "code",
   "execution_count": null,
   "id": "5c2bb62d",
   "metadata": {},
   "outputs": [],
   "source": [
    "data.head()"
   ]
  },
  {
   "cell_type": "markdown",
   "id": "ac85f168",
   "metadata": {},
   "source": [
    "## some cleaning steps \n",
    "- change headers to lower case \n",
    "- revision of for loops "
   ]
  },
  {
   "cell_type": "code",
   "execution_count": null,
   "id": "1ed93f73",
   "metadata": {},
   "outputs": [],
   "source": [
    "cols=[]\n",
    "for i in range(len(data.columns)):\n",
    "    cols.append(data.columns[i].lower())\n",
    "\n",
    "#this is the function : data.columns.lower()"
   ]
  },
  {
   "cell_type": "code",
   "execution_count": null,
   "id": "00126b4e",
   "metadata": {},
   "outputs": [],
   "source": [
    "data.columns=cols"
   ]
  },
  {
   "cell_type": "code",
   "execution_count": null,
   "id": "b5b688c3",
   "metadata": {},
   "outputs": [],
   "source": [
    "data.head()"
   ]
  },
  {
   "cell_type": "markdown",
   "id": "e5bd31b7",
   "metadata": {},
   "source": [
    "### drop columns "
   ]
  },
  {
   "cell_type": "code",
   "execution_count": null,
   "id": "6c198652",
   "metadata": {},
   "outputs": [],
   "source": [
    "datanew=data.drop(['controln','hv1'],axis=1)"
   ]
  },
  {
   "cell_type": "code",
   "execution_count": null,
   "id": "fa77dd77",
   "metadata": {},
   "outputs": [],
   "source": [
    "datanew.head()"
   ]
  },
  {
   "cell_type": "markdown",
   "id": "7057978e",
   "metadata": {},
   "source": [
    "#### Look at the end of the data with tail - notice the index is not refreshed?"
   ]
  },
  {
   "cell_type": "code",
   "execution_count": null,
   "id": "146a460e",
   "metadata": {},
   "outputs": [],
   "source": [
    "datanew.tail()"
   ]
  },
  {
   "cell_type": "code",
   "execution_count": null,
   "id": "e1b73f5b",
   "metadata": {},
   "outputs": [],
   "source": [
    "datanew.info()"
   ]
  },
  {
   "cell_type": "markdown",
   "id": "52a473a5",
   "metadata": {},
   "source": [
    "### reset index ! "
   ]
  },
  {
   "cell_type": "code",
   "execution_count": null,
   "id": "f636ab59",
   "metadata": {},
   "outputs": [],
   "source": [
    "datanew.reset_index(drop=True, inplace=True)"
   ]
  },
  {
   "cell_type": "markdown",
   "id": "0a8b0ae7",
   "metadata": {},
   "source": [
    "## filtering the data frame using subsets or query()"
   ]
  },
  {
   "cell_type": "code",
   "execution_count": null,
   "id": "8e562d93",
   "metadata": {},
   "outputs": [],
   "source": [
    "filtered=datanew[(datanew['state']=='FL')&(datanew['gender']=='M')]"
   ]
  },
  {
   "cell_type": "markdown",
   "id": "9ff614e0",
   "metadata": {},
   "source": [
    "## california + females + avg gift greater than $10 "
   ]
  },
  {
   "cell_type": "code",
   "execution_count": null,
   "id": "09846566",
   "metadata": {},
   "outputs": [],
   "source": [
    "# 252 \n",
    "\n",
    "filtered2=datanew[(datanew['state']=='CA')&(datanew['gender']=='F')&(datanew['avggift']>10)]"
   ]
  },
  {
   "cell_type": "code",
   "execution_count": null,
   "id": "f878da93",
   "metadata": {},
   "outputs": [],
   "source": [
    "filtered2.shape"
   ]
  },
  {
   "cell_type": "markdown",
   "id": "e41daf9b",
   "metadata": {},
   "source": [
    "### same using .query() "
   ]
  },
  {
   "cell_type": "code",
   "execution_count": null,
   "id": "debb89dc",
   "metadata": {},
   "outputs": [],
   "source": [
    "filtered3=datanew.query('gender==\"F\"&state==\"CA\"&avggift>10')"
   ]
  },
  {
   "cell_type": "code",
   "execution_count": null,
   "id": "2228d84d",
   "metadata": {},
   "outputs": [],
   "source": [
    "filtered3.info()"
   ]
  },
  {
   "cell_type": "code",
   "execution_count": null,
   "id": "dc8ae134",
   "metadata": {},
   "outputs": [],
   "source": [
    "filtered3[['state','gender','avggift']]"
   ]
  },
  {
   "cell_type": "markdown",
   "id": "a7672939",
   "metadata": {},
   "source": [
    "## data cleaning - dtypes "
   ]
  },
  {
   "cell_type": "code",
   "execution_count": null,
   "id": "1b7e21ee",
   "metadata": {},
   "outputs": [],
   "source": [
    "#im going back to the original data frame... \n",
    "data.shape"
   ]
  },
  {
   "cell_type": "code",
   "execution_count": null,
   "id": "2ac5d1d0",
   "metadata": {},
   "outputs": [],
   "source": [
    "data.dtypes"
   ]
  },
  {
   "cell_type": "code",
   "execution_count": null,
   "id": "1d408ce1",
   "metadata": {},
   "outputs": [],
   "source": [
    "# first we tried changing the column hv1 to a float \n",
    "#but then noticed it contains some strings - the dtype change does not work"
   ]
  },
  {
   "cell_type": "code",
   "execution_count": null,
   "id": "702d7c77",
   "metadata": {},
   "outputs": [],
   "source": [
    "data['hv1'].astype('float',errors='ignore')"
   ]
  },
  {
   "cell_type": "code",
   "execution_count": null,
   "id": "7cad6148",
   "metadata": {},
   "outputs": [],
   "source": [
    "data.dtypes"
   ]
  },
  {
   "cell_type": "code",
   "execution_count": null,
   "id": "24487ad7",
   "metadata": {},
   "outputs": [],
   "source": [
    "#lets use this function instead which has a coerce argument \n",
    "\n",
    "data['hv1']=pd.to_numeric(data['hv1'],errors='coerce')"
   ]
  },
  {
   "cell_type": "code",
   "execution_count": null,
   "id": "326c0591",
   "metadata": {},
   "outputs": [],
   "source": [
    "data['ic1']=pd.to_numeric(data['ic1'],errors='coerce')"
   ]
  },
  {
   "cell_type": "code",
   "execution_count": null,
   "id": "53eb613c",
   "metadata": {},
   "outputs": [],
   "source": [
    "data['ic3']=pd.to_numeric(data['ic3'],errors='coerce')"
   ]
  },
  {
   "cell_type": "code",
   "execution_count": null,
   "id": "71ea1c4e",
   "metadata": {},
   "outputs": [],
   "source": [
    "data['ic5']=pd.to_numeric(data['ic5'],errors='coerce')"
   ]
  },
  {
   "cell_type": "code",
   "execution_count": null,
   "id": "49c2f831",
   "metadata": {},
   "outputs": [],
   "source": [
    "data.dtypes"
   ]
  },
  {
   "cell_type": "markdown",
   "id": "9905b1a4",
   "metadata": {},
   "source": [
    "### Some useful functions to look into a column "
   ]
  },
  {
   "cell_type": "code",
   "execution_count": null,
   "id": "a2f242f9",
   "metadata": {},
   "outputs": [],
   "source": [
    "data['hvp1'].unique()"
   ]
  },
  {
   "cell_type": "code",
   "execution_count": null,
   "id": "683e6673",
   "metadata": {},
   "outputs": [],
   "source": [
    "data['hvp1'].value_counts()"
   ]
  },
  {
   "cell_type": "markdown",
   "id": "c4d33fc9",
   "metadata": {},
   "source": [
    "### drop duplicate rows - this is a function\n",
    "\n",
    "- without key arguments, we are only dropping complete duplicate rows"
   ]
  },
  {
   "cell_type": "code",
   "execution_count": null,
   "id": "febae613",
   "metadata": {},
   "outputs": [],
   "source": [
    "data=data.drop_duplicates()"
   ]
  },
  {
   "cell_type": "code",
   "execution_count": null,
   "id": "b59372f6",
   "metadata": {},
   "outputs": [],
   "source": [
    "data.shape"
   ]
  },
  {
   "cell_type": "markdown",
   "id": "0d00b5f4",
   "metadata": {},
   "source": [
    "## extract resulting data frame as csv "
   ]
  },
  {
   "cell_type": "code",
   "execution_count": null,
   "id": "fafafaac",
   "metadata": {},
   "outputs": [],
   "source": [
    "#data.to_csv('Healthcare/day1.csv',index=False)"
   ]
  },
  {
   "cell_type": "code",
   "execution_count": null,
   "id": "55ff05cd",
   "metadata": {},
   "outputs": [],
   "source": []
  },
  {
   "cell_type": "markdown",
   "id": "15408203",
   "metadata": {},
   "source": [
    "# NULLS "
   ]
  },
  {
   "cell_type": "code",
   "execution_count": null,
   "id": "5ea07584",
   "metadata": {},
   "outputs": [],
   "source": [
    "data.info()"
   ]
  },
  {
   "cell_type": "code",
   "execution_count": null,
   "id": "24721d2b",
   "metadata": {},
   "outputs": [],
   "source": [
    "#use this if we think we have any complete row nulls \n",
    "\n",
    "data.isna().all(axis=1)"
   ]
  },
  {
   "cell_type": "code",
   "execution_count": null,
   "id": "130ba12a",
   "metadata": {},
   "outputs": [],
   "source": [
    "#nulls snapshot table \n",
    "nullsdf=pd.DataFrame(round(data.isna().sum()/len(data),4)*100)"
   ]
  },
  {
   "cell_type": "code",
   "execution_count": null,
   "id": "82377ac9",
   "metadata": {},
   "outputs": [],
   "source": [
    "nullsdf=nullsdf.rename(columns={'index':'header',0:'proportionnulls'})"
   ]
  },
  {
   "cell_type": "code",
   "execution_count": null,
   "id": "7397b0ad",
   "metadata": {},
   "outputs": [],
   "source": [
    "nullsdf"
   ]
  },
  {
   "cell_type": "code",
   "execution_count": null,
   "id": "5c0d4f70",
   "metadata": {},
   "outputs": [],
   "source": [
    "data[data['gender'].isna()==True]"
   ]
  },
  {
   "cell_type": "code",
   "execution_count": null,
   "id": "0a72d498",
   "metadata": {},
   "outputs": [],
   "source": [
    "#fill null genders with a new label \n",
    "data['gender']=data['gender'].fillna(\"Unknown\")"
   ]
  },
  {
   "cell_type": "markdown",
   "id": "6d2bf1a6",
   "metadata": {},
   "source": [
    "### numeric columns - fill in - fill with mean "
   ]
  },
  {
   "cell_type": "code",
   "execution_count": null,
   "id": "f5ec2508",
   "metadata": {},
   "outputs": [],
   "source": [
    "hv1_mean=data[\"hv1\"].mean()"
   ]
  },
  {
   "cell_type": "code",
   "execution_count": null,
   "id": "81306256",
   "metadata": {},
   "outputs": [],
   "source": [
    "# Replace nulls in hv1 with mean ! "
   ]
  },
  {
   "cell_type": "code",
   "execution_count": null,
   "id": "e1d45e82",
   "metadata": {},
   "outputs": [],
   "source": [
    "data['hv1']=data['hv1'].fillna(hv1_mean)"
   ]
  },
  {
   "cell_type": "code",
   "execution_count": null,
   "id": "bb12263f",
   "metadata": {},
   "outputs": [],
   "source": [
    "data.info()"
   ]
  },
  {
   "cell_type": "markdown",
   "id": "95272895",
   "metadata": {},
   "source": [
    "## introducing lambda, map + list "
   ]
  },
  {
   "cell_type": "markdown",
   "id": "fe37fd5f",
   "metadata": {},
   "source": [
    "lambda an anonymous function - in place of ...\n",
    "\n",
    "+ def functionname: \n",
    "    + return something ... "
   ]
  },
  {
   "cell_type": "code",
   "execution_count": null,
   "id": "a8dfa404",
   "metadata": {},
   "outputs": [],
   "source": [
    "data['gender'].unique()"
   ]
  },
  {
   "cell_type": "code",
   "execution_count": null,
   "id": "e67c8f5a",
   "metadata": {},
   "outputs": [],
   "source": [
    "multiplication= lambda x,y: x*y"
   ]
  },
  {
   "cell_type": "code",
   "execution_count": null,
   "id": "3f797226",
   "metadata": {},
   "outputs": [],
   "source": [
    "multiplication(20,30)"
   ]
  },
  {
   "cell_type": "code",
   "execution_count": null,
   "id": "1585e83a",
   "metadata": {},
   "outputs": [],
   "source": [
    "#use lambda to make upper case \n",
    "data['gender']=list(map(lambda x: x.upper(),data['gender']))\n",
    "                   "
   ]
  },
  {
   "cell_type": "code",
   "execution_count": null,
   "id": "00eb5dd6",
   "metadata": {},
   "outputs": [],
   "source": [
    "#use a logical statement to clean the gender values \n",
    "\n",
    "def clean_gender(x): \n",
    "    if x in ['M','MALE']:\n",
    "        return 'M'\n",
    "    elif x.startswith('F'):\n",
    "        return 'F'\n",
    "    else:\n",
    "        return \"UNKNOWN\""
   ]
  },
  {
   "cell_type": "code",
   "execution_count": null,
   "id": "f8167550",
   "metadata": {},
   "outputs": [],
   "source": [
    "data['gender']=list(map(clean_gender,data['gender']))"
   ]
  },
  {
   "cell_type": "code",
   "execution_count": null,
   "id": "d26dbb65",
   "metadata": {},
   "outputs": [],
   "source": [
    "# check it worked \n",
    "data['gender'].value_counts()"
   ]
  },
  {
   "cell_type": "code",
   "execution_count": null,
   "id": "91f19ff9",
   "metadata": {},
   "outputs": [],
   "source": []
  },
  {
   "cell_type": "code",
   "execution_count": null,
   "id": "3b2fa493",
   "metadata": {},
   "outputs": [],
   "source": [
    "data.to_csv('Healthcare/day2.csv',index=False)"
   ]
  }
 ],
 "metadata": {
  "kernelspec": {
   "display_name": "Python 3 (ipykernel)",
   "language": "python",
   "name": "python3"
  },
  "language_info": {
   "codemirror_mode": {
    "name": "ipython",
    "version": 3
   },
   "file_extension": ".py",
   "mimetype": "text/x-python",
   "name": "python",
   "nbconvert_exporter": "python",
   "pygments_lexer": "ipython3",
   "version": "3.9.7"
  },
  "toc": {
   "base_numbering": 1,
   "nav_menu": {},
   "number_sections": true,
   "sideBar": true,
   "skip_h1_title": false,
   "title_cell": "Table of Contents",
   "title_sidebar": "Contents",
   "toc_cell": false,
   "toc_position": {},
   "toc_section_display": true,
   "toc_window_display": false
  }
 },
 "nbformat": 4,
 "nbformat_minor": 5
}
