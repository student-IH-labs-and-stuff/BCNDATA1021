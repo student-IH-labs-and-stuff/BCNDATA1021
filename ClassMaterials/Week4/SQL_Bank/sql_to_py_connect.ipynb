{
 "cells": [
  {
   "cell_type": "markdown",
   "id": "sized-reminder",
   "metadata": {},
   "source": [
    "### installations \n",
    "command line \n",
    "\n",
    "- conda activate beesjun21 (your env name)\n",
    "- pymysql    conda install -c anaconda pymysql \n",
    "- sqlalchemy   conda install -c anaconda sqlalchemy"
   ]
  },
  {
   "cell_type": "markdown",
   "id": "continued-relay",
   "metadata": {},
   "source": [
    "### connecting to mysql from python "
   ]
  },
  {
   "cell_type": "code",
   "execution_count": 1,
   "id": "amateur-mixer",
   "metadata": {},
   "outputs": [],
   "source": [
    "import pymysql \n",
    "from sqlalchemy import create_engine \n",
    "import pandas as pd \n"
   ]
  },
  {
   "cell_type": "code",
   "execution_count": 2,
   "id": "supreme-trouble",
   "metadata": {},
   "outputs": [],
   "source": [
    "import getpass # to get the password without it being visible "
   ]
  },
  {
   "cell_type": "code",
   "execution_count": 5,
   "id": "cda525ca",
   "metadata": {},
   "outputs": [
    {
     "name": "stdout",
     "output_type": "stream",
     "text": [
      "········\n"
     ]
    }
   ],
   "source": [
    "mysqlpassword= getpass.getpass()"
   ]
  },
  {
   "cell_type": "code",
   "execution_count": 6,
   "id": "noble-fashion",
   "metadata": {},
   "outputs": [],
   "source": [
    "#define a connection string \n",
    "# dialect + driver :// username : password @host(domain) : db name \n",
    "\n",
    "connection_string = 'mysql+pymysql://root:' + mysqlpassword + '@localhost/bank'\n",
    "engine= create_engine(connection_string)"
   ]
  },
  {
   "cell_type": "markdown",
   "id": "01e7b687",
   "metadata": {},
   "source": [
    "### Initial query on loans to check everything works "
   ]
  },
  {
   "cell_type": "code",
   "execution_count": 7,
   "id": "chief-cause",
   "metadata": {},
   "outputs": [],
   "source": [
    "# dataframe creation \n",
    "\n",
    "df= pd.read_sql_query('Select * from loan', engine )"
   ]
  },
  {
   "cell_type": "code",
   "execution_count": 8,
   "id": "bronze-conservation",
   "metadata": {},
   "outputs": [
    {
     "data": {
      "text/html": [
       "<div>\n",
       "<style scoped>\n",
       "    .dataframe tbody tr th:only-of-type {\n",
       "        vertical-align: middle;\n",
       "    }\n",
       "\n",
       "    .dataframe tbody tr th {\n",
       "        vertical-align: top;\n",
       "    }\n",
       "\n",
       "    .dataframe thead th {\n",
       "        text-align: right;\n",
       "    }\n",
       "</style>\n",
       "<table border=\"1\" class=\"dataframe\">\n",
       "  <thead>\n",
       "    <tr style=\"text-align: right;\">\n",
       "      <th></th>\n",
       "      <th>loan_id</th>\n",
       "      <th>account_id</th>\n",
       "      <th>date</th>\n",
       "      <th>amount</th>\n",
       "      <th>duration</th>\n",
       "      <th>payments</th>\n",
       "      <th>status</th>\n",
       "    </tr>\n",
       "  </thead>\n",
       "  <tbody>\n",
       "    <tr>\n",
       "      <th>0</th>\n",
       "      <td>5314</td>\n",
       "      <td>1787</td>\n",
       "      <td>930705</td>\n",
       "      <td>96396</td>\n",
       "      <td>12</td>\n",
       "      <td>8033.0</td>\n",
       "      <td>B</td>\n",
       "    </tr>\n",
       "    <tr>\n",
       "      <th>1</th>\n",
       "      <td>5316</td>\n",
       "      <td>1801</td>\n",
       "      <td>930711</td>\n",
       "      <td>165960</td>\n",
       "      <td>36</td>\n",
       "      <td>4610.0</td>\n",
       "      <td>A</td>\n",
       "    </tr>\n",
       "    <tr>\n",
       "      <th>2</th>\n",
       "      <td>6863</td>\n",
       "      <td>9188</td>\n",
       "      <td>930728</td>\n",
       "      <td>127080</td>\n",
       "      <td>60</td>\n",
       "      <td>2118.0</td>\n",
       "      <td>A</td>\n",
       "    </tr>\n",
       "    <tr>\n",
       "      <th>3</th>\n",
       "      <td>5325</td>\n",
       "      <td>1843</td>\n",
       "      <td>930803</td>\n",
       "      <td>105804</td>\n",
       "      <td>36</td>\n",
       "      <td>2939.0</td>\n",
       "      <td>A</td>\n",
       "    </tr>\n",
       "    <tr>\n",
       "      <th>4</th>\n",
       "      <td>7240</td>\n",
       "      <td>11013</td>\n",
       "      <td>930906</td>\n",
       "      <td>274740</td>\n",
       "      <td>60</td>\n",
       "      <td>4579.0</td>\n",
       "      <td>A</td>\n",
       "    </tr>\n",
       "    <tr>\n",
       "      <th>...</th>\n",
       "      <td>...</td>\n",
       "      <td>...</td>\n",
       "      <td>...</td>\n",
       "      <td>...</td>\n",
       "      <td>...</td>\n",
       "      <td>...</td>\n",
       "      <td>...</td>\n",
       "    </tr>\n",
       "    <tr>\n",
       "      <th>677</th>\n",
       "      <td>4989</td>\n",
       "      <td>105</td>\n",
       "      <td>981205</td>\n",
       "      <td>352704</td>\n",
       "      <td>48</td>\n",
       "      <td>7348.0</td>\n",
       "      <td>C</td>\n",
       "    </tr>\n",
       "    <tr>\n",
       "      <th>678</th>\n",
       "      <td>5221</td>\n",
       "      <td>1284</td>\n",
       "      <td>981205</td>\n",
       "      <td>52512</td>\n",
       "      <td>12</td>\n",
       "      <td>4376.0</td>\n",
       "      <td>C</td>\n",
       "    </tr>\n",
       "    <tr>\n",
       "      <th>679</th>\n",
       "      <td>6402</td>\n",
       "      <td>6922</td>\n",
       "      <td>981206</td>\n",
       "      <td>139488</td>\n",
       "      <td>24</td>\n",
       "      <td>5812.0</td>\n",
       "      <td>C</td>\n",
       "    </tr>\n",
       "    <tr>\n",
       "      <th>680</th>\n",
       "      <td>5346</td>\n",
       "      <td>1928</td>\n",
       "      <td>981206</td>\n",
       "      <td>55632</td>\n",
       "      <td>24</td>\n",
       "      <td>2318.0</td>\n",
       "      <td>C</td>\n",
       "    </tr>\n",
       "    <tr>\n",
       "      <th>681</th>\n",
       "      <td>6748</td>\n",
       "      <td>8645</td>\n",
       "      <td>981208</td>\n",
       "      <td>240900</td>\n",
       "      <td>60</td>\n",
       "      <td>4015.0</td>\n",
       "      <td>C</td>\n",
       "    </tr>\n",
       "  </tbody>\n",
       "</table>\n",
       "<p>682 rows × 7 columns</p>\n",
       "</div>"
      ],
      "text/plain": [
       "     loan_id  account_id    date  amount  duration  payments status\n",
       "0       5314        1787  930705   96396        12    8033.0      B\n",
       "1       5316        1801  930711  165960        36    4610.0      A\n",
       "2       6863        9188  930728  127080        60    2118.0      A\n",
       "3       5325        1843  930803  105804        36    2939.0      A\n",
       "4       7240       11013  930906  274740        60    4579.0      A\n",
       "..       ...         ...     ...     ...       ...       ...    ...\n",
       "677     4989         105  981205  352704        48    7348.0      C\n",
       "678     5221        1284  981205   52512        12    4376.0      C\n",
       "679     6402        6922  981206  139488        24    5812.0      C\n",
       "680     5346        1928  981206   55632        24    2318.0      C\n",
       "681     6748        8645  981208  240900        60    4015.0      C\n",
       "\n",
       "[682 rows x 7 columns]"
      ]
     },
     "execution_count": 8,
     "metadata": {},
     "output_type": "execute_result"
    }
   ],
   "source": [
    "df"
   ]
  },
  {
   "cell_type": "markdown",
   "id": "deac94dd",
   "metadata": {},
   "source": [
    "### aggregated query to select summary rows of loans "
   ]
  },
  {
   "cell_type": "code",
   "execution_count": null,
   "id": "polished-birthday",
   "metadata": {},
   "outputs": [],
   "source": [
    "dloans=pd.read_sql_query('select d.A2 as district, sum(l.amount) as totamntbor, round(avg(l.amount)) as avgloan, count(l.loan_id) as noloans from loan l join account a on l.account_id = a.account_id  join district d on a.district_id= d.A1 group by d.A2 order by avgloan desc limit 20',engine)"
   ]
  },
  {
   "cell_type": "code",
   "execution_count": null,
   "id": "british-county",
   "metadata": {},
   "outputs": [],
   "source": [
    "dloans.head()"
   ]
  },
  {
   "cell_type": "code",
   "execution_count": null,
   "id": "interior-judge",
   "metadata": {},
   "outputs": [],
   "source": [
    "dloans.info()"
   ]
  },
  {
   "cell_type": "markdown",
   "id": "dressed-check",
   "metadata": {},
   "source": [
    "## next - visualisation!"
   ]
  },
  {
   "cell_type": "code",
   "execution_count": null,
   "id": "heavy-impression",
   "metadata": {},
   "outputs": [],
   "source": [
    "import matplotlib.pyplot as plt \n",
    "import seaborn as sns \n",
    "\n"
   ]
  },
  {
   "cell_type": "code",
   "execution_count": null,
   "id": "short-blocking",
   "metadata": {},
   "outputs": [],
   "source": [
    "plotdata= dloans\n",
    "plotdata.plot(kind=\"bar\")"
   ]
  },
  {
   "cell_type": "code",
   "execution_count": null,
   "id": "quality-missile",
   "metadata": {},
   "outputs": [],
   "source": [
    "#Q: whats the relationship between no of loans, size of loans per district ? \n",
    "sns.scatterplot(x='totamntbor', y= 'avgloan', hue ='noloans', size = 'noloans', legend = 0, data = dloans)"
   ]
  },
  {
   "cell_type": "code",
   "execution_count": null,
   "id": "affecting-centre",
   "metadata": {},
   "outputs": [],
   "source": [
    "sns.catplot(y=\"district\", x=\"avgloan\", data=dloans)"
   ]
  },
  {
   "cell_type": "code",
   "execution_count": null,
   "id": "sharp-authentication",
   "metadata": {},
   "outputs": [],
   "source": [
    "#Q: in which district have we lent the most ? \n",
    "\n",
    "plt.figure(figsize=(10,6))\n",
    "sns_plot = sns.barplot(y='district',x ='totamntbor', data = dloans, palette = \"mako\", order=dloans.sort_values('totamntbor', ascending = False).district)\n",
    "# set labels\n",
    "plt.xlabel(\"Amount Borrowed\", size=15)\n",
    "plt.ylabel(\"District\", size=15)\n",
    "plt.title(\"Loans per District\", size=18)\n",
    "plt.tight_layout()\n",
    "\n",
    "#export image \n",
    "plt.savefig(\"loansdistrict.png\", dpi=100)"
   ]
  },
  {
   "cell_type": "code",
   "execution_count": null,
   "id": "arctic-grenada",
   "metadata": {},
   "outputs": [],
   "source": []
  }
 ],
 "metadata": {
  "kernelspec": {
   "display_name": "Python 3",
   "language": "python",
   "name": "python3"
  },
  "language_info": {
   "codemirror_mode": {
    "name": "ipython",
    "version": 3
   },
   "file_extension": ".py",
   "mimetype": "text/x-python",
   "name": "python",
   "nbconvert_exporter": "python",
   "pygments_lexer": "ipython3",
   "version": "3.9.4"
  },
  "toc": {
   "base_numbering": 1,
   "nav_menu": {},
   "number_sections": true,
   "sideBar": true,
   "skip_h1_title": false,
   "title_cell": "Table of Contents",
   "title_sidebar": "Contents",
   "toc_cell": false,
   "toc_position": {},
   "toc_section_display": true,
   "toc_window_display": false
  },
  "varInspector": {
   "cols": {
    "lenName": 16,
    "lenType": 16,
    "lenVar": 40
   },
   "kernels_config": {
    "python": {
     "delete_cmd_postfix": "",
     "delete_cmd_prefix": "del ",
     "library": "var_list.py",
     "varRefreshCmd": "print(var_dic_list())"
    },
    "r": {
     "delete_cmd_postfix": ") ",
     "delete_cmd_prefix": "rm(",
     "library": "var_list.r",
     "varRefreshCmd": "cat(var_dic_list()) "
    }
   },
   "types_to_exclude": [
    "module",
    "function",
    "builtin_function_or_method",
    "instance",
    "_Feature"
   ],
   "window_display": false
  }
 },
 "nbformat": 4,
 "nbformat_minor": 5
}
