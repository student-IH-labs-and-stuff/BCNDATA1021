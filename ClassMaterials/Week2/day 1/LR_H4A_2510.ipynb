{
 "cells": [
  {
   "cell_type": "markdown",
   "id": "63fb39df",
   "metadata": {},
   "source": [
    "## get data"
   ]
  },
  {
   "cell_type": "code",
   "execution_count": 3,
   "id": "b06b6b0b",
   "metadata": {},
   "outputs": [
    {
     "name": "stdout",
     "output_type": "stream",
     "text": [
      "/Users/siandavies/Documents/working/Healthcare\n"
     ]
    }
   ],
   "source": [
    "cd Healthcare"
   ]
  },
  {
   "cell_type": "code",
   "execution_count": 4,
   "id": "93e6f943",
   "metadata": {},
   "outputs": [
    {
     "name": "stdout",
     "output_type": "stream",
     "text": [
      "day1.csv\r\n",
      "day2.csv\r\n",
      "file1.csv\r\n",
      "file2.txt\r\n",
      "file3.xlsx\r\n",
      "file4.xlsx\r\n",
      "h4Aextracolumndefinitions.docx\r\n",
      "healthcare for all column definitions.docx\r\n"
     ]
    }
   ],
   "source": [
    "!ls"
   ]
  },
  {
   "cell_type": "code",
   "execution_count": 5,
   "id": "c3d0718f",
   "metadata": {},
   "outputs": [],
   "source": [
    "import pandas as pd "
   ]
  },
  {
   "cell_type": "code",
   "execution_count": 6,
   "id": "6cfdb3a5",
   "metadata": {},
   "outputs": [],
   "source": [
    "data=pd.read_csv('day2.csv')"
   ]
  },
  {
   "cell_type": "code",
   "execution_count": 7,
   "id": "19ea35b6",
   "metadata": {},
   "outputs": [
    {
     "data": {
      "text/html": [
       "<div>\n",
       "<style scoped>\n",
       "    .dataframe tbody tr th:only-of-type {\n",
       "        vertical-align: middle;\n",
       "    }\n",
       "\n",
       "    .dataframe tbody tr th {\n",
       "        vertical-align: top;\n",
       "    }\n",
       "\n",
       "    .dataframe thead th {\n",
       "        text-align: right;\n",
       "    }\n",
       "</style>\n",
       "<table border=\"1\" class=\"dataframe\">\n",
       "  <thead>\n",
       "    <tr style=\"text-align: right;\">\n",
       "      <th></th>\n",
       "      <th>controln</th>\n",
       "      <th>state</th>\n",
       "      <th>gender</th>\n",
       "      <th>hv1</th>\n",
       "      <th>ic1</th>\n",
       "      <th>ic4</th>\n",
       "      <th>hvp1</th>\n",
       "      <th>ic5</th>\n",
       "      <th>pobc1</th>\n",
       "      <th>pobc2</th>\n",
       "      <th>ic2</th>\n",
       "      <th>ic3</th>\n",
       "      <th>avggift</th>\n",
       "      <th>tcode</th>\n",
       "      <th>dob</th>\n",
       "      <th>domain</th>\n",
       "      <th>target_d</th>\n",
       "    </tr>\n",
       "  </thead>\n",
       "  <tbody>\n",
       "    <tr>\n",
       "      <th>0</th>\n",
       "      <td>44060</td>\n",
       "      <td>FL</td>\n",
       "      <td>M</td>\n",
       "      <td>1157.329241</td>\n",
       "      <td>392</td>\n",
       "      <td>520.0</td>\n",
       "      <td>7</td>\n",
       "      <td>21975.0</td>\n",
       "      <td>6</td>\n",
       "      <td>16</td>\n",
       "      <td>430.0</td>\n",
       "      <td>466</td>\n",
       "      <td>28.000000</td>\n",
       "      <td>1</td>\n",
       "      <td>1901</td>\n",
       "      <td>C2</td>\n",
       "      <td>100.0</td>\n",
       "    </tr>\n",
       "    <tr>\n",
       "      <th>1</th>\n",
       "      <td>96093</td>\n",
       "      <td>IL</td>\n",
       "      <td>M</td>\n",
       "      <td>537.000000</td>\n",
       "      <td>365</td>\n",
       "      <td>473.0</td>\n",
       "      <td>0</td>\n",
       "      <td>19387.0</td>\n",
       "      <td>1</td>\n",
       "      <td>89</td>\n",
       "      <td>415.0</td>\n",
       "      <td>410</td>\n",
       "      <td>5.666667</td>\n",
       "      <td>0</td>\n",
       "      <td>0</td>\n",
       "      <td>T2</td>\n",
       "      <td>7.0</td>\n",
       "    </tr>\n",
       "    <tr>\n",
       "      <th>2</th>\n",
       "      <td>43333</td>\n",
       "      <td>FL</td>\n",
       "      <td>F</td>\n",
       "      <td>725.000000</td>\n",
       "      <td>301</td>\n",
       "      <td>436.0</td>\n",
       "      <td>3</td>\n",
       "      <td>18837.0</td>\n",
       "      <td>11</td>\n",
       "      <td>17</td>\n",
       "      <td>340.0</td>\n",
       "      <td>361</td>\n",
       "      <td>4.111111</td>\n",
       "      <td>0</td>\n",
       "      <td>2501</td>\n",
       "      <td>C2</td>\n",
       "      <td>5.0</td>\n",
       "    </tr>\n",
       "    <tr>\n",
       "      <th>3</th>\n",
       "      <td>21885</td>\n",
       "      <td>NC</td>\n",
       "      <td>M</td>\n",
       "      <td>1157.329241</td>\n",
       "      <td>401</td>\n",
       "      <td>413.0</td>\n",
       "      <td>7</td>\n",
       "      <td>14014.0</td>\n",
       "      <td>1</td>\n",
       "      <td>74</td>\n",
       "      <td>407.0</td>\n",
       "      <td>399</td>\n",
       "      <td>27.277778</td>\n",
       "      <td>0</td>\n",
       "      <td>2208</td>\n",
       "      <td>T2</td>\n",
       "      <td>38.0</td>\n",
       "    </tr>\n",
       "    <tr>\n",
       "      <th>4</th>\n",
       "      <td>190108</td>\n",
       "      <td>FL</td>\n",
       "      <td>F</td>\n",
       "      <td>995.000000</td>\n",
       "      <td>252</td>\n",
       "      <td>348.0</td>\n",
       "      <td>0</td>\n",
       "      <td>17991.0</td>\n",
       "      <td>5</td>\n",
       "      <td>6</td>\n",
       "      <td>280.0</td>\n",
       "      <td>316</td>\n",
       "      <td>6.000000</td>\n",
       "      <td>28</td>\n",
       "      <td>0</td>\n",
       "      <td>C2</td>\n",
       "      <td>5.0</td>\n",
       "    </tr>\n",
       "  </tbody>\n",
       "</table>\n",
       "</div>"
      ],
      "text/plain": [
       "   controln state gender          hv1  ic1    ic4  hvp1      ic5  pobc1  \\\n",
       "0     44060    FL      M  1157.329241  392  520.0     7  21975.0      6   \n",
       "1     96093    IL      M   537.000000  365  473.0     0  19387.0      1   \n",
       "2     43333    FL      F   725.000000  301  436.0     3  18837.0     11   \n",
       "3     21885    NC      M  1157.329241  401  413.0     7  14014.0      1   \n",
       "4    190108    FL      F   995.000000  252  348.0     0  17991.0      5   \n",
       "\n",
       "   pobc2    ic2  ic3    avggift  tcode   dob domain  target_d  \n",
       "0     16  430.0  466  28.000000      1  1901     C2     100.0  \n",
       "1     89  415.0  410   5.666667      0     0     T2       7.0  \n",
       "2     17  340.0  361   4.111111      0  2501     C2       5.0  \n",
       "3     74  407.0  399  27.277778      0  2208     T2      38.0  \n",
       "4      6  280.0  316   6.000000     28     0     C2       5.0  "
      ]
     },
     "execution_count": 7,
     "metadata": {},
     "output_type": "execute_result"
    }
   ],
   "source": [
    "data.head()"
   ]
  },
  {
   "cell_type": "markdown",
   "id": "5916a97a",
   "metadata": {},
   "source": [
    "## Check the basics with describe, info head "
   ]
  },
  {
   "cell_type": "code",
   "execution_count": 9,
   "id": "393f90da",
   "metadata": {},
   "outputs": [
    {
     "data": {
      "text/html": [
       "<div>\n",
       "<style scoped>\n",
       "    .dataframe tbody tr th:only-of-type {\n",
       "        vertical-align: middle;\n",
       "    }\n",
       "\n",
       "    .dataframe tbody tr th {\n",
       "        vertical-align: top;\n",
       "    }\n",
       "\n",
       "    .dataframe thead th {\n",
       "        text-align: right;\n",
       "    }\n",
       "</style>\n",
       "<table border=\"1\" class=\"dataframe\">\n",
       "  <thead>\n",
       "    <tr style=\"text-align: right;\">\n",
       "      <th></th>\n",
       "      <th>controln</th>\n",
       "      <th>hv1</th>\n",
       "      <th>ic1</th>\n",
       "      <th>ic4</th>\n",
       "      <th>hvp1</th>\n",
       "      <th>ic5</th>\n",
       "      <th>pobc1</th>\n",
       "      <th>pobc2</th>\n",
       "      <th>ic2</th>\n",
       "      <th>ic3</th>\n",
       "      <th>avggift</th>\n",
       "      <th>tcode</th>\n",
       "      <th>dob</th>\n",
       "      <th>target_d</th>\n",
       "    </tr>\n",
       "  </thead>\n",
       "  <tbody>\n",
       "    <tr>\n",
       "      <th>count</th>\n",
       "      <td>4001.000000</td>\n",
       "      <td>4001.000000</td>\n",
       "      <td>4001.000000</td>\n",
       "      <td>4000.000000</td>\n",
       "      <td>4001.00000</td>\n",
       "      <td>3995.000000</td>\n",
       "      <td>4001.000000</td>\n",
       "      <td>4001.000000</td>\n",
       "      <td>4000.000000</td>\n",
       "      <td>4001.000000</td>\n",
       "      <td>4001.000000</td>\n",
       "      <td>4001.000000</td>\n",
       "      <td>4001.000000</td>\n",
       "      <td>4001.000000</td>\n",
       "    </tr>\n",
       "    <tr>\n",
       "      <th>mean</th>\n",
       "      <td>98945.902274</td>\n",
       "      <td>1157.329241</td>\n",
       "      <td>351.543364</td>\n",
       "      <td>444.628250</td>\n",
       "      <td>15.91852</td>\n",
       "      <td>16455.588736</td>\n",
       "      <td>6.859535</td>\n",
       "      <td>55.467883</td>\n",
       "      <td>400.570750</td>\n",
       "      <td>399.765809</td>\n",
       "      <td>11.781559</td>\n",
       "      <td>76.796551</td>\n",
       "      <td>2703.984754</td>\n",
       "      <td>15.656208</td>\n",
       "    </tr>\n",
       "    <tr>\n",
       "      <th>std</th>\n",
       "      <td>58175.307614</td>\n",
       "      <td>1032.805983</td>\n",
       "      <td>168.422014</td>\n",
       "      <td>174.937777</td>\n",
       "      <td>28.81456</td>\n",
       "      <td>9453.265416</td>\n",
       "      <td>9.508799</td>\n",
       "      <td>21.500536</td>\n",
       "      <td>180.462807</td>\n",
       "      <td>164.767267</td>\n",
       "      <td>10.164747</td>\n",
       "      <td>1193.953285</td>\n",
       "      <td>2052.829565</td>\n",
       "      <td>12.692982</td>\n",
       "    </tr>\n",
       "    <tr>\n",
       "      <th>min</th>\n",
       "      <td>12.000000</td>\n",
       "      <td>0.000000</td>\n",
       "      <td>0.000000</td>\n",
       "      <td>0.000000</td>\n",
       "      <td>0.00000</td>\n",
       "      <td>0.000000</td>\n",
       "      <td>0.000000</td>\n",
       "      <td>0.000000</td>\n",
       "      <td>0.000000</td>\n",
       "      <td>0.000000</td>\n",
       "      <td>2.260870</td>\n",
       "      <td>0.000000</td>\n",
       "      <td>0.000000</td>\n",
       "      <td>1.000000</td>\n",
       "    </tr>\n",
       "    <tr>\n",
       "      <th>25%</th>\n",
       "      <td>46153.000000</td>\n",
       "      <td>548.000000</td>\n",
       "      <td>239.000000</td>\n",
       "      <td>325.000000</td>\n",
       "      <td>0.00000</td>\n",
       "      <td>11137.500000</td>\n",
       "      <td>1.000000</td>\n",
       "      <td>41.000000</td>\n",
       "      <td>284.000000</td>\n",
       "      <td>287.000000</td>\n",
       "      <td>7.181818</td>\n",
       "      <td>0.000000</td>\n",
       "      <td>609.000000</td>\n",
       "      <td>10.000000</td>\n",
       "    </tr>\n",
       "    <tr>\n",
       "      <th>50%</th>\n",
       "      <td>101596.000000</td>\n",
       "      <td>802.000000</td>\n",
       "      <td>318.000000</td>\n",
       "      <td>410.000000</td>\n",
       "      <td>1.00000</td>\n",
       "      <td>14356.000000</td>\n",
       "      <td>4.000000</td>\n",
       "      <td>57.000000</td>\n",
       "      <td>366.000000</td>\n",
       "      <td>365.000000</td>\n",
       "      <td>10.000000</td>\n",
       "      <td>1.000000</td>\n",
       "      <td>2612.000000</td>\n",
       "      <td>13.920000</td>\n",
       "    </tr>\n",
       "    <tr>\n",
       "      <th>75%</th>\n",
       "      <td>151653.000000</td>\n",
       "      <td>1348.000000</td>\n",
       "      <td>425.000000</td>\n",
       "      <td>528.000000</td>\n",
       "      <td>14.00000</td>\n",
       "      <td>18778.500000</td>\n",
       "      <td>9.000000</td>\n",
       "      <td>73.000000</td>\n",
       "      <td>477.000000</td>\n",
       "      <td>479.000000</td>\n",
       "      <td>14.428571</td>\n",
       "      <td>2.000000</td>\n",
       "      <td>4401.000000</td>\n",
       "      <td>20.000000</td>\n",
       "    </tr>\n",
       "    <tr>\n",
       "      <th>max</th>\n",
       "      <td>191779.000000</td>\n",
       "      <td>5982.000000</td>\n",
       "      <td>1500.000000</td>\n",
       "      <td>1331.000000</td>\n",
       "      <td>99.00000</td>\n",
       "      <td>174523.000000</td>\n",
       "      <td>79.000000</td>\n",
       "      <td>99.000000</td>\n",
       "      <td>1500.000000</td>\n",
       "      <td>1311.000000</td>\n",
       "      <td>450.000000</td>\n",
       "      <td>39002.000000</td>\n",
       "      <td>9310.000000</td>\n",
       "      <td>200.000000</td>\n",
       "    </tr>\n",
       "  </tbody>\n",
       "</table>\n",
       "</div>"
      ],
      "text/plain": [
       "            controln          hv1          ic1          ic4        hvp1  \\\n",
       "count    4001.000000  4001.000000  4001.000000  4000.000000  4001.00000   \n",
       "mean    98945.902274  1157.329241   351.543364   444.628250    15.91852   \n",
       "std     58175.307614  1032.805983   168.422014   174.937777    28.81456   \n",
       "min        12.000000     0.000000     0.000000     0.000000     0.00000   \n",
       "25%     46153.000000   548.000000   239.000000   325.000000     0.00000   \n",
       "50%    101596.000000   802.000000   318.000000   410.000000     1.00000   \n",
       "75%    151653.000000  1348.000000   425.000000   528.000000    14.00000   \n",
       "max    191779.000000  5982.000000  1500.000000  1331.000000    99.00000   \n",
       "\n",
       "                 ic5        pobc1        pobc2          ic2          ic3  \\\n",
       "count    3995.000000  4001.000000  4001.000000  4000.000000  4001.000000   \n",
       "mean    16455.588736     6.859535    55.467883   400.570750   399.765809   \n",
       "std      9453.265416     9.508799    21.500536   180.462807   164.767267   \n",
       "min         0.000000     0.000000     0.000000     0.000000     0.000000   \n",
       "25%     11137.500000     1.000000    41.000000   284.000000   287.000000   \n",
       "50%     14356.000000     4.000000    57.000000   366.000000   365.000000   \n",
       "75%     18778.500000     9.000000    73.000000   477.000000   479.000000   \n",
       "max    174523.000000    79.000000    99.000000  1500.000000  1311.000000   \n",
       "\n",
       "           avggift         tcode          dob     target_d  \n",
       "count  4001.000000   4001.000000  4001.000000  4001.000000  \n",
       "mean     11.781559     76.796551  2703.984754    15.656208  \n",
       "std      10.164747   1193.953285  2052.829565    12.692982  \n",
       "min       2.260870      0.000000     0.000000     1.000000  \n",
       "25%       7.181818      0.000000   609.000000    10.000000  \n",
       "50%      10.000000      1.000000  2612.000000    13.920000  \n",
       "75%      14.428571      2.000000  4401.000000    20.000000  \n",
       "max     450.000000  39002.000000  9310.000000   200.000000  "
      ]
     },
     "execution_count": 9,
     "metadata": {},
     "output_type": "execute_result"
    }
   ],
   "source": [
    "data.describe()"
   ]
  },
  {
   "cell_type": "code",
   "execution_count": 10,
   "id": "ac07655d",
   "metadata": {},
   "outputs": [
    {
     "name": "stdout",
     "output_type": "stream",
     "text": [
      "<class 'pandas.core.frame.DataFrame'>\n",
      "RangeIndex: 4001 entries, 0 to 4000\n",
      "Data columns (total 17 columns):\n",
      " #   Column    Non-Null Count  Dtype  \n",
      "---  ------    --------------  -----  \n",
      " 0   controln  4001 non-null   int64  \n",
      " 1   state     4001 non-null   object \n",
      " 2   gender    4001 non-null   object \n",
      " 3   hv1       4001 non-null   float64\n",
      " 4   ic1       4001 non-null   int64  \n",
      " 5   ic4       4000 non-null   float64\n",
      " 6   hvp1      4001 non-null   int64  \n",
      " 7   ic5       3995 non-null   float64\n",
      " 8   pobc1     4001 non-null   int64  \n",
      " 9   pobc2     4001 non-null   int64  \n",
      " 10  ic2       4000 non-null   float64\n",
      " 11  ic3       4001 non-null   int64  \n",
      " 12  avggift   4001 non-null   float64\n",
      " 13  tcode     4001 non-null   int64  \n",
      " 14  dob       4001 non-null   int64  \n",
      " 15  domain    4001 non-null   object \n",
      " 16  target_d  4001 non-null   float64\n",
      "dtypes: float64(6), int64(8), object(3)\n",
      "memory usage: 531.5+ KB\n"
     ]
    }
   ],
   "source": [
    "data.info()"
   ]
  },
  {
   "cell_type": "markdown",
   "id": "c257dc84",
   "metadata": {},
   "source": [
    "### drop nulls "
   ]
  },
  {
   "cell_type": "code",
   "execution_count": 11,
   "id": "e9aab0e1",
   "metadata": {},
   "outputs": [],
   "source": [
    "data=data.dropna()"
   ]
  },
  {
   "cell_type": "code",
   "execution_count": 12,
   "id": "047375cc",
   "metadata": {},
   "outputs": [],
   "source": [
    "data.reset_index(drop=True, inplace=True)"
   ]
  },
  {
   "cell_type": "code",
   "execution_count": 13,
   "id": "fddcb305",
   "metadata": {},
   "outputs": [
    {
     "name": "stdout",
     "output_type": "stream",
     "text": [
      "<class 'pandas.core.frame.DataFrame'>\n",
      "RangeIndex: 3993 entries, 0 to 3992\n",
      "Data columns (total 17 columns):\n",
      " #   Column    Non-Null Count  Dtype  \n",
      "---  ------    --------------  -----  \n",
      " 0   controln  3993 non-null   int64  \n",
      " 1   state     3993 non-null   object \n",
      " 2   gender    3993 non-null   object \n",
      " 3   hv1       3993 non-null   float64\n",
      " 4   ic1       3993 non-null   int64  \n",
      " 5   ic4       3993 non-null   float64\n",
      " 6   hvp1      3993 non-null   int64  \n",
      " 7   ic5       3993 non-null   float64\n",
      " 8   pobc1     3993 non-null   int64  \n",
      " 9   pobc2     3993 non-null   int64  \n",
      " 10  ic2       3993 non-null   float64\n",
      " 11  ic3       3993 non-null   int64  \n",
      " 12  avggift   3993 non-null   float64\n",
      " 13  tcode     3993 non-null   int64  \n",
      " 14  dob       3993 non-null   int64  \n",
      " 15  domain    3993 non-null   object \n",
      " 16  target_d  3993 non-null   float64\n",
      "dtypes: float64(6), int64(8), object(3)\n",
      "memory usage: 530.4+ KB\n"
     ]
    }
   ],
   "source": [
    "data.info()"
   ]
  },
  {
   "cell_type": "markdown",
   "id": "ff165ae6",
   "metadata": {},
   "source": [
    "## Some EDA and a clean outliers step"
   ]
  },
  {
   "cell_type": "code",
   "execution_count": 14,
   "id": "fe13342f",
   "metadata": {},
   "outputs": [],
   "source": [
    "import seaborn as sns "
   ]
  },
  {
   "cell_type": "code",
   "execution_count": 15,
   "id": "49ca903a",
   "metadata": {},
   "outputs": [],
   "source": [
    "import matplotlib.pyplot as plt "
   ]
  },
  {
   "cell_type": "code",
   "execution_count": 16,
   "id": "5b5ce80a",
   "metadata": {},
   "outputs": [],
   "source": [
    "import numpy as np \n",
    "# isolate numeric features \n",
    "dfnum=data.select_dtypes(include=np.number)"
   ]
  },
  {
   "cell_type": "code",
   "execution_count": 17,
   "id": "c18bf584",
   "metadata": {},
   "outputs": [],
   "source": [
    "dfcat=data.select_dtypes(include=object)"
   ]
  },
  {
   "cell_type": "code",
   "execution_count": 18,
   "id": "6b30953c",
   "metadata": {},
   "outputs": [
    {
     "data": {
      "text/html": [
       "<div>\n",
       "<style scoped>\n",
       "    .dataframe tbody tr th:only-of-type {\n",
       "        vertical-align: middle;\n",
       "    }\n",
       "\n",
       "    .dataframe tbody tr th {\n",
       "        vertical-align: top;\n",
       "    }\n",
       "\n",
       "    .dataframe thead th {\n",
       "        text-align: right;\n",
       "    }\n",
       "</style>\n",
       "<table border=\"1\" class=\"dataframe\">\n",
       "  <thead>\n",
       "    <tr style=\"text-align: right;\">\n",
       "      <th></th>\n",
       "      <th>controln</th>\n",
       "      <th>hv1</th>\n",
       "      <th>ic1</th>\n",
       "      <th>ic4</th>\n",
       "      <th>hvp1</th>\n",
       "      <th>ic5</th>\n",
       "      <th>pobc1</th>\n",
       "      <th>pobc2</th>\n",
       "      <th>ic2</th>\n",
       "      <th>ic3</th>\n",
       "      <th>avggift</th>\n",
       "      <th>tcode</th>\n",
       "      <th>dob</th>\n",
       "      <th>target_d</th>\n",
       "    </tr>\n",
       "  </thead>\n",
       "  <tbody>\n",
       "    <tr>\n",
       "      <th>0</th>\n",
       "      <td>44060</td>\n",
       "      <td>1157.329241</td>\n",
       "      <td>392</td>\n",
       "      <td>520.0</td>\n",
       "      <td>7</td>\n",
       "      <td>21975.0</td>\n",
       "      <td>6</td>\n",
       "      <td>16</td>\n",
       "      <td>430.0</td>\n",
       "      <td>466</td>\n",
       "      <td>28.000000</td>\n",
       "      <td>1</td>\n",
       "      <td>1901</td>\n",
       "      <td>100.0</td>\n",
       "    </tr>\n",
       "    <tr>\n",
       "      <th>1</th>\n",
       "      <td>96093</td>\n",
       "      <td>537.000000</td>\n",
       "      <td>365</td>\n",
       "      <td>473.0</td>\n",
       "      <td>0</td>\n",
       "      <td>19387.0</td>\n",
       "      <td>1</td>\n",
       "      <td>89</td>\n",
       "      <td>415.0</td>\n",
       "      <td>410</td>\n",
       "      <td>5.666667</td>\n",
       "      <td>0</td>\n",
       "      <td>0</td>\n",
       "      <td>7.0</td>\n",
       "    </tr>\n",
       "    <tr>\n",
       "      <th>2</th>\n",
       "      <td>43333</td>\n",
       "      <td>725.000000</td>\n",
       "      <td>301</td>\n",
       "      <td>436.0</td>\n",
       "      <td>3</td>\n",
       "      <td>18837.0</td>\n",
       "      <td>11</td>\n",
       "      <td>17</td>\n",
       "      <td>340.0</td>\n",
       "      <td>361</td>\n",
       "      <td>4.111111</td>\n",
       "      <td>0</td>\n",
       "      <td>2501</td>\n",
       "      <td>5.0</td>\n",
       "    </tr>\n",
       "  </tbody>\n",
       "</table>\n",
       "</div>"
      ],
      "text/plain": [
       "   controln          hv1  ic1    ic4  hvp1      ic5  pobc1  pobc2    ic2  ic3  \\\n",
       "0     44060  1157.329241  392  520.0     7  21975.0      6     16  430.0  466   \n",
       "1     96093   537.000000  365  473.0     0  19387.0      1     89  415.0  410   \n",
       "2     43333   725.000000  301  436.0     3  18837.0     11     17  340.0  361   \n",
       "\n",
       "     avggift  tcode   dob  target_d  \n",
       "0  28.000000      1  1901     100.0  \n",
       "1   5.666667      0     0       7.0  \n",
       "2   4.111111      0  2501       5.0  "
      ]
     },
     "execution_count": 18,
     "metadata": {},
     "output_type": "execute_result"
    }
   ],
   "source": [
    "dfnum.head(3)"
   ]
  },
  {
   "cell_type": "code",
   "execution_count": 19,
   "id": "f1fd29bb",
   "metadata": {},
   "outputs": [
    {
     "name": "stderr",
     "output_type": "stream",
     "text": [
      "/usr/local/Caskroom/miniconda/base/envs/barca10/lib/python3.9/site-packages/pandas/core/frame.py:4906: SettingWithCopyWarning: \n",
      "A value is trying to be set on a copy of a slice from a DataFrame\n",
      "\n",
      "See the caveats in the documentation: https://pandas.pydata.org/pandas-docs/stable/user_guide/indexing.html#returning-a-view-versus-a-copy\n",
      "  return super().drop(\n"
     ]
    }
   ],
   "source": [
    "dfnum.drop(['controln', 'tcode'], axis = 1, inplace = True) "
   ]
  },
  {
   "cell_type": "code",
   "execution_count": 20,
   "id": "fb71fc88",
   "metadata": {},
   "outputs": [
    {
     "data": {
      "image/png": "[encoded data removed]",
      "text/plain": [
       "<Figure size 432x288 with 12 Axes>"
      ]
     },
     "metadata": {
      "needs_background": "light"
     },
     "output_type": "display_data"
    }
   ],
   "source": [
    "dfnum.hist(bins=20);"
   ]
  },
  {
   "cell_type": "code",
   "execution_count": 21,
   "id": "a3e8fc74",
   "metadata": {},
   "outputs": [
    {
     "data": {
      "text/plain": [
       "<AxesSubplot:>"
      ]
     },
     "execution_count": 21,
     "metadata": {},
     "output_type": "execute_result"
    },
    {
     "data": {
      "image/png": "[encoded data removed]",
      "text/plain": [
       "<Figure size 432x288 with 1 Axes>"
      ]
     },
     "metadata": {
      "needs_background": "light"
     },
     "output_type": "display_data"
    }
   ],
   "source": [
    "dfnum[['avggift']].boxplot()"
   ]
  },
  {
   "cell_type": "code",
   "execution_count": 22,
   "id": "c8bac778",
   "metadata": {},
   "outputs": [
    {
     "data": {
      "text/plain": [
       "<AxesSubplot:>"
      ]
     },
     "execution_count": 22,
     "metadata": {},
     "output_type": "execute_result"
    },
    {
     "data": {
      "image/png": "[encoded data removed]",
      "text/plain": [
       "<Figure size 432x288 with 1 Axes>"
      ]
     },
     "metadata": {
      "needs_background": "light"
     },
     "output_type": "display_data"
    }
   ],
   "source": [
    "dfnum['avggift'].hist()"
   ]
  },
  {
   "cell_type": "markdown",
   "id": "d80c5697",
   "metadata": {},
   "source": [
    "### get the inter quartile range "
   ]
  },
  {
   "cell_type": "code",
   "execution_count": 23,
   "id": "b26bf68d",
   "metadata": {},
   "outputs": [],
   "source": [
    "## use percentiles to drop outliers \n",
    "\n",
    "iqr=np.percentile(dfnum['avggift'],75)-np.percentile(dfnum['avggift'],25)"
   ]
  },
  {
   "cell_type": "code",
   "execution_count": 24,
   "id": "6778e5ac",
   "metadata": {},
   "outputs": [
    {
     "data": {
      "text/plain": [
       "7.24107143"
      ]
     },
     "execution_count": 24,
     "metadata": {},
     "output_type": "execute_result"
    }
   ],
   "source": [
    "iqr"
   ]
  },
  {
   "cell_type": "markdown",
   "id": "d3f1f171",
   "metadata": {},
   "source": [
    "### get the upper and lower limits\n",
    "\n",
    " + this is based on 1st and 3rd quartiles (25th and 75th percentiles)\n",
    "+ with an addition of 1.5 x IQR "
   ]
  },
  {
   "cell_type": "code",
   "execution_count": 25,
   "id": "e66cbcb0",
   "metadata": {},
   "outputs": [],
   "source": [
    "upper_limit= np.percentile(dfnum['avggift'],75)+ 1.5*iqr"
   ]
  },
  {
   "cell_type": "code",
   "execution_count": 26,
   "id": "b3482601",
   "metadata": {},
   "outputs": [
    {
     "data": {
      "text/plain": [
       "25.290178575"
      ]
     },
     "execution_count": 26,
     "metadata": {},
     "output_type": "execute_result"
    }
   ],
   "source": [
    "upper_limit"
   ]
  },
  {
   "cell_type": "code",
   "execution_count": 27,
   "id": "84e2b03b",
   "metadata": {},
   "outputs": [],
   "source": [
    "lower_limit= np.percentile(dfnum['avggift'],25)- 1.5*iqr"
   ]
  },
  {
   "cell_type": "code",
   "execution_count": 28,
   "id": "675bd0bc",
   "metadata": {},
   "outputs": [
    {
     "data": {
      "text/plain": [
       "-3.6741071450000007"
      ]
     },
     "execution_count": 28,
     "metadata": {},
     "output_type": "execute_result"
    }
   ],
   "source": [
    "lower_limit"
   ]
  },
  {
   "cell_type": "code",
   "execution_count": 29,
   "id": "a2607857",
   "metadata": {},
   "outputs": [
    {
     "name": "stdout",
     "output_type": "stream",
     "text": [
      "<class 'pandas.core.frame.DataFrame'>\n",
      "RangeIndex: 3993 entries, 0 to 3992\n",
      "Data columns (total 17 columns):\n",
      " #   Column    Non-Null Count  Dtype  \n",
      "---  ------    --------------  -----  \n",
      " 0   controln  3993 non-null   int64  \n",
      " 1   state     3993 non-null   object \n",
      " 2   gender    3993 non-null   object \n",
      " 3   hv1       3993 non-null   float64\n",
      " 4   ic1       3993 non-null   int64  \n",
      " 5   ic4       3993 non-null   float64\n",
      " 6   hvp1      3993 non-null   int64  \n",
      " 7   ic5       3993 non-null   float64\n",
      " 8   pobc1     3993 non-null   int64  \n",
      " 9   pobc2     3993 non-null   int64  \n",
      " 10  ic2       3993 non-null   float64\n",
      " 11  ic3       3993 non-null   int64  \n",
      " 12  avggift   3993 non-null   float64\n",
      " 13  tcode     3993 non-null   int64  \n",
      " 14  dob       3993 non-null   int64  \n",
      " 15  domain    3993 non-null   object \n",
      " 16  target_d  3993 non-null   float64\n",
      "dtypes: float64(6), int64(8), object(3)\n",
      "memory usage: 530.4+ KB\n"
     ]
    }
   ],
   "source": [
    "data.info()"
   ]
  },
  {
   "cell_type": "code",
   "execution_count": 30,
   "id": "4edccb32",
   "metadata": {},
   "outputs": [
    {
     "data": {
      "text/html": [
       "<div>\n",
       "<style scoped>\n",
       "    .dataframe tbody tr th:only-of-type {\n",
       "        vertical-align: middle;\n",
       "    }\n",
       "\n",
       "    .dataframe tbody tr th {\n",
       "        vertical-align: top;\n",
       "    }\n",
       "\n",
       "    .dataframe thead th {\n",
       "        text-align: right;\n",
       "    }\n",
       "</style>\n",
       "<table border=\"1\" class=\"dataframe\">\n",
       "  <thead>\n",
       "    <tr style=\"text-align: right;\">\n",
       "      <th></th>\n",
       "      <th>controln</th>\n",
       "      <th>state</th>\n",
       "      <th>gender</th>\n",
       "      <th>hv1</th>\n",
       "      <th>ic1</th>\n",
       "      <th>ic4</th>\n",
       "      <th>hvp1</th>\n",
       "      <th>ic5</th>\n",
       "      <th>pobc1</th>\n",
       "      <th>pobc2</th>\n",
       "      <th>ic2</th>\n",
       "      <th>ic3</th>\n",
       "      <th>avggift</th>\n",
       "      <th>tcode</th>\n",
       "      <th>dob</th>\n",
       "      <th>domain</th>\n",
       "      <th>target_d</th>\n",
       "    </tr>\n",
       "  </thead>\n",
       "  <tbody>\n",
       "    <tr>\n",
       "      <th>0</th>\n",
       "      <td>44060</td>\n",
       "      <td>FL</td>\n",
       "      <td>M</td>\n",
       "      <td>1157.329241</td>\n",
       "      <td>392</td>\n",
       "      <td>520.0</td>\n",
       "      <td>7</td>\n",
       "      <td>21975.0</td>\n",
       "      <td>6</td>\n",
       "      <td>16</td>\n",
       "      <td>430.0</td>\n",
       "      <td>466</td>\n",
       "      <td>28.000000</td>\n",
       "      <td>1</td>\n",
       "      <td>1901</td>\n",
       "      <td>C2</td>\n",
       "      <td>100.0</td>\n",
       "    </tr>\n",
       "    <tr>\n",
       "      <th>1</th>\n",
       "      <td>96093</td>\n",
       "      <td>IL</td>\n",
       "      <td>M</td>\n",
       "      <td>537.000000</td>\n",
       "      <td>365</td>\n",
       "      <td>473.0</td>\n",
       "      <td>0</td>\n",
       "      <td>19387.0</td>\n",
       "      <td>1</td>\n",
       "      <td>89</td>\n",
       "      <td>415.0</td>\n",
       "      <td>410</td>\n",
       "      <td>5.666667</td>\n",
       "      <td>0</td>\n",
       "      <td>0</td>\n",
       "      <td>T2</td>\n",
       "      <td>7.0</td>\n",
       "    </tr>\n",
       "    <tr>\n",
       "      <th>2</th>\n",
       "      <td>43333</td>\n",
       "      <td>FL</td>\n",
       "      <td>F</td>\n",
       "      <td>725.000000</td>\n",
       "      <td>301</td>\n",
       "      <td>436.0</td>\n",
       "      <td>3</td>\n",
       "      <td>18837.0</td>\n",
       "      <td>11</td>\n",
       "      <td>17</td>\n",
       "      <td>340.0</td>\n",
       "      <td>361</td>\n",
       "      <td>4.111111</td>\n",
       "      <td>0</td>\n",
       "      <td>2501</td>\n",
       "      <td>C2</td>\n",
       "      <td>5.0</td>\n",
       "    </tr>\n",
       "    <tr>\n",
       "      <th>3</th>\n",
       "      <td>21885</td>\n",
       "      <td>NC</td>\n",
       "      <td>M</td>\n",
       "      <td>1157.329241</td>\n",
       "      <td>401</td>\n",
       "      <td>413.0</td>\n",
       "      <td>7</td>\n",
       "      <td>14014.0</td>\n",
       "      <td>1</td>\n",
       "      <td>74</td>\n",
       "      <td>407.0</td>\n",
       "      <td>399</td>\n",
       "      <td>27.277778</td>\n",
       "      <td>0</td>\n",
       "      <td>2208</td>\n",
       "      <td>T2</td>\n",
       "      <td>38.0</td>\n",
       "    </tr>\n",
       "    <tr>\n",
       "      <th>4</th>\n",
       "      <td>190108</td>\n",
       "      <td>FL</td>\n",
       "      <td>F</td>\n",
       "      <td>995.000000</td>\n",
       "      <td>252</td>\n",
       "      <td>348.0</td>\n",
       "      <td>0</td>\n",
       "      <td>17991.0</td>\n",
       "      <td>5</td>\n",
       "      <td>6</td>\n",
       "      <td>280.0</td>\n",
       "      <td>316</td>\n",
       "      <td>6.000000</td>\n",
       "      <td>28</td>\n",
       "      <td>0</td>\n",
       "      <td>C2</td>\n",
       "      <td>5.0</td>\n",
       "    </tr>\n",
       "  </tbody>\n",
       "</table>\n",
       "</div>"
      ],
      "text/plain": [
       "   controln state gender          hv1  ic1    ic4  hvp1      ic5  pobc1  \\\n",
       "0     44060    FL      M  1157.329241  392  520.0     7  21975.0      6   \n",
       "1     96093    IL      M   537.000000  365  473.0     0  19387.0      1   \n",
       "2     43333    FL      F   725.000000  301  436.0     3  18837.0     11   \n",
       "3     21885    NC      M  1157.329241  401  413.0     7  14014.0      1   \n",
       "4    190108    FL      F   995.000000  252  348.0     0  17991.0      5   \n",
       "\n",
       "   pobc2    ic2  ic3    avggift  tcode   dob domain  target_d  \n",
       "0     16  430.0  466  28.000000      1  1901     C2     100.0  \n",
       "1     89  415.0  410   5.666667      0     0     T2       7.0  \n",
       "2     17  340.0  361   4.111111      0  2501     C2       5.0  \n",
       "3     74  407.0  399  27.277778      0  2208     T2      38.0  \n",
       "4      6  280.0  316   6.000000     28     0     C2       5.0  "
      ]
     },
     "execution_count": 30,
     "metadata": {},
     "output_type": "execute_result"
    }
   ],
   "source": [
    "data.head()"
   ]
  },
  {
   "cell_type": "markdown",
   "id": "50f62643",
   "metadata": {},
   "source": [
    "### drop data outside of these limits "
   ]
  },
  {
   "cell_type": "code",
   "execution_count": 31,
   "id": "0c00b2bf",
   "metadata": {},
   "outputs": [],
   "source": [
    "## if youre making a DROP change - call the whole data set \n",
    "\n",
    "data=data[(data['avggift']>lower_limit)&(data['avggift']<=upper_limit)]"
   ]
  },
  {
   "cell_type": "code",
   "execution_count": 32,
   "id": "6632582b",
   "metadata": {},
   "outputs": [],
   "source": [
    "data.reset_index(drop=True, inplace=True)"
   ]
  },
  {
   "cell_type": "code",
   "execution_count": 33,
   "id": "c0e400e3",
   "metadata": {},
   "outputs": [
    {
     "name": "stdout",
     "output_type": "stream",
     "text": [
      "<class 'pandas.core.frame.DataFrame'>\n",
      "RangeIndex: 3875 entries, 0 to 3874\n",
      "Data columns (total 17 columns):\n",
      " #   Column    Non-Null Count  Dtype  \n",
      "---  ------    --------------  -----  \n",
      " 0   controln  3875 non-null   int64  \n",
      " 1   state     3875 non-null   object \n",
      " 2   gender    3875 non-null   object \n",
      " 3   hv1       3875 non-null   float64\n",
      " 4   ic1       3875 non-null   int64  \n",
      " 5   ic4       3875 non-null   float64\n",
      " 6   hvp1      3875 non-null   int64  \n",
      " 7   ic5       3875 non-null   float64\n",
      " 8   pobc1     3875 non-null   int64  \n",
      " 9   pobc2     3875 non-null   int64  \n",
      " 10  ic2       3875 non-null   float64\n",
      " 11  ic3       3875 non-null   int64  \n",
      " 12  avggift   3875 non-null   float64\n",
      " 13  tcode     3875 non-null   int64  \n",
      " 14  dob       3875 non-null   int64  \n",
      " 15  domain    3875 non-null   object \n",
      " 16  target_d  3875 non-null   float64\n",
      "dtypes: float64(6), int64(8), object(3)\n",
      "memory usage: 514.8+ KB\n"
     ]
    }
   ],
   "source": [
    "data.info()"
   ]
  },
  {
   "cell_type": "markdown",
   "id": "74f256ee",
   "metadata": {},
   "source": [
    "### check the distribution shape again "
   ]
  },
  {
   "cell_type": "code",
   "execution_count": 34,
   "id": "b7678b94",
   "metadata": {},
   "outputs": [
    {
     "data": {
      "text/plain": [
       "<AxesSubplot:>"
      ]
     },
     "execution_count": 34,
     "metadata": {},
     "output_type": "execute_result"
    },
    {
     "data": {
      "image/png": "[encoded data removed]",
      "text/plain": [
       "<Figure size 432x288 with 1 Axes>"
      ]
     },
     "metadata": {
      "needs_background": "light"
     },
     "output_type": "display_data"
    }
   ],
   "source": [
    "data['avggift'].hist()"
   ]
  },
  {
   "cell_type": "markdown",
   "id": "ba8a312b",
   "metadata": {},
   "source": [
    "## identify AND isolate target var"
   ]
  },
  {
   "cell_type": "code",
   "execution_count": 35,
   "id": "644204fc",
   "metadata": {},
   "outputs": [],
   "source": [
    "y = data['target_d']"
   ]
  },
  {
   "cell_type": "code",
   "execution_count": 36,
   "id": "8ca357ad",
   "metadata": {},
   "outputs": [
    {
     "name": "stdout",
     "output_type": "stream",
     "text": [
      "<class 'pandas.core.frame.DataFrame'>\n",
      "RangeIndex: 3875 entries, 0 to 3874\n",
      "Data columns (total 17 columns):\n",
      " #   Column    Non-Null Count  Dtype  \n",
      "---  ------    --------------  -----  \n",
      " 0   controln  3875 non-null   int64  \n",
      " 1   state     3875 non-null   object \n",
      " 2   gender    3875 non-null   object \n",
      " 3   hv1       3875 non-null   float64\n",
      " 4   ic1       3875 non-null   int64  \n",
      " 5   ic4       3875 non-null   float64\n",
      " 6   hvp1      3875 non-null   int64  \n",
      " 7   ic5       3875 non-null   float64\n",
      " 8   pobc1     3875 non-null   int64  \n",
      " 9   pobc2     3875 non-null   int64  \n",
      " 10  ic2       3875 non-null   float64\n",
      " 11  ic3       3875 non-null   int64  \n",
      " 12  avggift   3875 non-null   float64\n",
      " 13  tcode     3875 non-null   int64  \n",
      " 14  dob       3875 non-null   int64  \n",
      " 15  domain    3875 non-null   object \n",
      " 16  target_d  3875 non-null   float64\n",
      "dtypes: float64(6), int64(8), object(3)\n",
      "memory usage: 514.8+ KB\n"
     ]
    }
   ],
   "source": [
    "data.info()"
   ]
  },
  {
   "cell_type": "markdown",
   "id": "cbba18f5",
   "metadata": {},
   "source": [
    "## split again into num and cat "
   ]
  },
  {
   "cell_type": "code",
   "execution_count": 80,
   "id": "78d0cb4d",
   "metadata": {},
   "outputs": [],
   "source": [
    "data=data.drop(['target_d'], axis = 1) "
   ]
  },
  {
   "cell_type": "code",
   "execution_count": 81,
   "id": "f142e4b8",
   "metadata": {},
   "outputs": [],
   "source": [
    "datanum=data.select_dtypes(include=np.number)"
   ]
  },
  {
   "cell_type": "code",
   "execution_count": 82,
   "id": "b5fd0ee9",
   "metadata": {},
   "outputs": [],
   "source": [
    "datacat=data.select_dtypes(include=object)"
   ]
  },
  {
   "cell_type": "markdown",
   "id": "1290a9ed",
   "metadata": {},
   "source": [
    "## Scale numeric variables, encode categoricals"
   ]
  },
  {
   "cell_type": "code",
   "execution_count": 83,
   "id": "d6f8ba23",
   "metadata": {},
   "outputs": [],
   "source": [
    "from sklearn.preprocessing import StandardScaler\n",
    "scaler = StandardScaler()\n",
    "scaler.fit(datanum)\n",
    "StandardScaler()\n",
    "scaled=scaler.transform(datanum)"
   ]
  },
  {
   "cell_type": "code",
   "execution_count": 84,
   "id": "91716540",
   "metadata": {},
   "outputs": [
    {
     "data": {
      "text/html": [
       "<div>\n",
       "<style scoped>\n",
       "    .dataframe tbody tr th:only-of-type {\n",
       "        vertical-align: middle;\n",
       "    }\n",
       "\n",
       "    .dataframe tbody tr th {\n",
       "        vertical-align: top;\n",
       "    }\n",
       "\n",
       "    .dataframe thead th {\n",
       "        text-align: right;\n",
       "    }\n",
       "</style>\n",
       "<table border=\"1\" class=\"dataframe\">\n",
       "  <thead>\n",
       "    <tr style=\"text-align: right;\">\n",
       "      <th></th>\n",
       "      <th>0</th>\n",
       "      <th>1</th>\n",
       "      <th>2</th>\n",
       "      <th>3</th>\n",
       "      <th>4</th>\n",
       "      <th>5</th>\n",
       "      <th>6</th>\n",
       "      <th>7</th>\n",
       "      <th>8</th>\n",
       "      <th>9</th>\n",
       "      <th>10</th>\n",
       "      <th>11</th>\n",
       "      <th>12</th>\n",
       "    </tr>\n",
       "  </thead>\n",
       "  <tbody>\n",
       "    <tr>\n",
       "      <th>0</th>\n",
       "      <td>-0.052892</td>\n",
       "      <td>-0.598478</td>\n",
       "      <td>0.099173</td>\n",
       "      <td>0.184576</td>\n",
       "      <td>-0.545563</td>\n",
       "      <td>0.360566</td>\n",
       "      <td>-0.610851</td>\n",
       "      <td>1.552188</td>\n",
       "      <td>0.102417</td>\n",
       "      <td>0.080667</td>\n",
       "      <td>-1.030400</td>\n",
       "      <td>-0.064658</td>\n",
       "      <td>-1.316593</td>\n",
       "    </tr>\n",
       "    <tr>\n",
       "      <th>1</th>\n",
       "      <td>-0.962181</td>\n",
       "      <td>-0.411342</td>\n",
       "      <td>-0.289023</td>\n",
       "      <td>-0.030619</td>\n",
       "      <td>-0.439689</td>\n",
       "      <td>0.297809</td>\n",
       "      <td>0.442200</td>\n",
       "      <td>-1.797132</td>\n",
       "      <td>-0.323965</td>\n",
       "      <td>-0.221144</td>\n",
       "      <td>-1.338820</td>\n",
       "      <td>-0.064658</td>\n",
       "      <td>-0.098312</td>\n",
       "    </tr>\n",
       "    <tr>\n",
       "      <th>2</th>\n",
       "      <td>1.567402</td>\n",
       "      <td>-0.142583</td>\n",
       "      <td>-0.586235</td>\n",
       "      <td>-0.542434</td>\n",
       "      <td>-0.545563</td>\n",
       "      <td>0.201278</td>\n",
       "      <td>-0.189631</td>\n",
       "      <td>-2.308834</td>\n",
       "      <td>-0.665070</td>\n",
       "      <td>-0.498317</td>\n",
       "      <td>-0.964310</td>\n",
       "      <td>-0.041570</td>\n",
       "      <td>-1.316593</td>\n",
       "    </tr>\n",
       "    <tr>\n",
       "      <th>3</th>\n",
       "      <td>-1.388767</td>\n",
       "      <td>-0.361572</td>\n",
       "      <td>-0.185908</td>\n",
       "      <td>-0.129492</td>\n",
       "      <td>-0.369106</td>\n",
       "      <td>-0.312184</td>\n",
       "      <td>-0.716156</td>\n",
       "      <td>0.807894</td>\n",
       "      <td>-0.187523</td>\n",
       "      <td>-0.104115</td>\n",
       "      <td>-1.236931</td>\n",
       "      <td>-0.064658</td>\n",
       "      <td>0.830133</td>\n",
       "    </tr>\n",
       "    <tr>\n",
       "      <th>4</th>\n",
       "      <td>0.342552</td>\n",
       "      <td>-0.247100</td>\n",
       "      <td>1.033269</td>\n",
       "      <td>0.690575</td>\n",
       "      <td>-0.545563</td>\n",
       "      <td>0.187700</td>\n",
       "      <td>-0.505546</td>\n",
       "      <td>-0.448101</td>\n",
       "      <td>0.727776</td>\n",
       "      <td>0.949143</td>\n",
       "      <td>-0.929613</td>\n",
       "      <td>0.761589</td>\n",
       "      <td>-1.316593</td>\n",
       "    </tr>\n",
       "    <tr>\n",
       "      <th>...</th>\n",
       "      <td>...</td>\n",
       "      <td>...</td>\n",
       "      <td>...</td>\n",
       "      <td>...</td>\n",
       "      <td>...</td>\n",
       "      <td>...</td>\n",
       "      <td>...</td>\n",
       "      <td>...</td>\n",
       "      <td>...</td>\n",
       "      <td>...</td>\n",
       "      <td>...</td>\n",
       "      <td>...</td>\n",
       "      <td>...</td>\n",
       "    </tr>\n",
       "    <tr>\n",
       "      <th>3870</th>\n",
       "      <td>-0.558395</td>\n",
       "      <td>-0.503915</td>\n",
       "      <td>-0.422465</td>\n",
       "      <td>-0.309791</td>\n",
       "      <td>-0.474980</td>\n",
       "      <td>-0.407802</td>\n",
       "      <td>-0.610851</td>\n",
       "      <td>0.714858</td>\n",
       "      <td>-0.346705</td>\n",
       "      <td>-0.356651</td>\n",
       "      <td>-0.462027</td>\n",
       "      <td>-0.064658</td>\n",
       "      <td>-1.316593</td>\n",
       "    </tr>\n",
       "    <tr>\n",
       "      <th>3871</th>\n",
       "      <td>-1.597959</td>\n",
       "      <td>-0.540745</td>\n",
       "      <td>-0.586235</td>\n",
       "      <td>-0.972824</td>\n",
       "      <td>-0.545563</td>\n",
       "      <td>-0.581352</td>\n",
       "      <td>0.126285</td>\n",
       "      <td>-2.076242</td>\n",
       "      <td>-0.761716</td>\n",
       "      <td>-0.830925</td>\n",
       "      <td>0.759111</td>\n",
       "      <td>-0.063834</td>\n",
       "      <td>-0.098312</td>\n",
       "    </tr>\n",
       "    <tr>\n",
       "      <th>3872</th>\n",
       "      <td>0.896414</td>\n",
       "      <td>1.561550</td>\n",
       "      <td>0.960482</td>\n",
       "      <td>0.556805</td>\n",
       "      <td>2.277743</td>\n",
       "      <td>-0.007073</td>\n",
       "      <td>1.811166</td>\n",
       "      <td>-0.075954</td>\n",
       "      <td>0.608389</td>\n",
       "      <td>0.869071</td>\n",
       "      <td>0.248634</td>\n",
       "      <td>-0.064658</td>\n",
       "      <td>0.632364</td>\n",
       "    </tr>\n",
       "    <tr>\n",
       "      <th>3873</th>\n",
       "      <td>0.902084</td>\n",
       "      <td>1.520739</td>\n",
       "      <td>1.130318</td>\n",
       "      <td>1.231471</td>\n",
       "      <td>1.677791</td>\n",
       "      <td>0.971928</td>\n",
       "      <td>1.600556</td>\n",
       "      <td>-0.494619</td>\n",
       "      <td>1.205323</td>\n",
       "      <td>1.324867</td>\n",
       "      <td>0.291398</td>\n",
       "      <td>-0.063834</td>\n",
       "      <td>0.827211</td>\n",
       "    </tr>\n",
       "    <tr>\n",
       "      <th>3874</th>\n",
       "      <td>-0.428431</td>\n",
       "      <td>-0.691051</td>\n",
       "      <td>-0.750005</td>\n",
       "      <td>-0.827422</td>\n",
       "      <td>-0.439689</td>\n",
       "      <td>-0.700475</td>\n",
       "      <td>-0.610851</td>\n",
       "      <td>1.412633</td>\n",
       "      <td>-0.756031</td>\n",
       "      <td>-0.787809</td>\n",
       "      <td>1.244981</td>\n",
       "      <td>-0.061360</td>\n",
       "      <td>-1.119310</td>\n",
       "    </tr>\n",
       "  </tbody>\n",
       "</table>\n",
       "<p>3875 rows × 13 columns</p>\n",
       "</div>"
      ],
      "text/plain": [
       "            0         1         2         3         4         5         6   \\\n",
       "0    -0.052892 -0.598478  0.099173  0.184576 -0.545563  0.360566 -0.610851   \n",
       "1    -0.962181 -0.411342 -0.289023 -0.030619 -0.439689  0.297809  0.442200   \n",
       "2     1.567402 -0.142583 -0.586235 -0.542434 -0.545563  0.201278 -0.189631   \n",
       "3    -1.388767 -0.361572 -0.185908 -0.129492 -0.369106 -0.312184 -0.716156   \n",
       "4     0.342552 -0.247100  1.033269  0.690575 -0.545563  0.187700 -0.505546   \n",
       "...        ...       ...       ...       ...       ...       ...       ...   \n",
       "3870 -0.558395 -0.503915 -0.422465 -0.309791 -0.474980 -0.407802 -0.610851   \n",
       "3871 -1.597959 -0.540745 -0.586235 -0.972824 -0.545563 -0.581352  0.126285   \n",
       "3872  0.896414  1.561550  0.960482  0.556805  2.277743 -0.007073  1.811166   \n",
       "3873  0.902084  1.520739  1.130318  1.231471  1.677791  0.971928  1.600556   \n",
       "3874 -0.428431 -0.691051 -0.750005 -0.827422 -0.439689 -0.700475 -0.610851   \n",
       "\n",
       "            7         8         9         10        11        12  \n",
       "0     1.552188  0.102417  0.080667 -1.030400 -0.064658 -1.316593  \n",
       "1    -1.797132 -0.323965 -0.221144 -1.338820 -0.064658 -0.098312  \n",
       "2    -2.308834 -0.665070 -0.498317 -0.964310 -0.041570 -1.316593  \n",
       "3     0.807894 -0.187523 -0.104115 -1.236931 -0.064658  0.830133  \n",
       "4    -0.448101  0.727776  0.949143 -0.929613  0.761589 -1.316593  \n",
       "...        ...       ...       ...       ...       ...       ...  \n",
       "3870  0.714858 -0.346705 -0.356651 -0.462027 -0.064658 -1.316593  \n",
       "3871 -2.076242 -0.761716 -0.830925  0.759111 -0.063834 -0.098312  \n",
       "3872 -0.075954  0.608389  0.869071  0.248634 -0.064658  0.632364  \n",
       "3873 -0.494619  1.205323  1.324867  0.291398 -0.063834  0.827211  \n",
       "3874  1.412633 -0.756031 -0.787809  1.244981 -0.061360 -1.119310  \n",
       "\n",
       "[3875 rows x 13 columns]"
      ]
     },
     "execution_count": 84,
     "metadata": {},
     "output_type": "execute_result"
    }
   ],
   "source": [
    "scaleddf=pd.DataFrame(scaled)\n",
    "scaleddf"
   ]
  },
  {
   "cell_type": "code",
   "execution_count": 85,
   "id": "e372f316",
   "metadata": {},
   "outputs": [
    {
     "name": "stdout",
     "output_type": "stream",
     "text": [
      "<class 'pandas.core.frame.DataFrame'>\n",
      "RangeIndex: 3875 entries, 0 to 3874\n",
      "Data columns (total 3 columns):\n",
      " #   Column  Non-Null Count  Dtype \n",
      "---  ------  --------------  ----- \n",
      " 0   state   3875 non-null   object\n",
      " 1   gender  3875 non-null   object\n",
      " 2   domain  3875 non-null   object\n",
      "dtypes: object(3)\n",
      "memory usage: 90.9+ KB\n"
     ]
    }
   ],
   "source": [
    "#ohe \n",
    "datacat.info()"
   ]
  },
  {
   "cell_type": "code",
   "execution_count": 86,
   "id": "acec7657",
   "metadata": {},
   "outputs": [],
   "source": [
    "from sklearn.preprocessing import OneHotEncoder\n",
    "encoder = OneHotEncoder(handle_unknown='error').fit(datacat)\n",
    "ohe = encoder.transform(datacat).toarray()\n"
   ]
  },
  {
   "cell_type": "code",
   "execution_count": 87,
   "id": "da783e2d",
   "metadata": {},
   "outputs": [
    {
     "data": {
      "text/html": [
       "<div>\n",
       "<style scoped>\n",
       "    .dataframe tbody tr th:only-of-type {\n",
       "        vertical-align: middle;\n",
       "    }\n",
       "\n",
       "    .dataframe tbody tr th {\n",
       "        vertical-align: top;\n",
       "    }\n",
       "\n",
       "    .dataframe thead th {\n",
       "        text-align: right;\n",
       "    }\n",
       "</style>\n",
       "<table border=\"1\" class=\"dataframe\">\n",
       "  <thead>\n",
       "    <tr style=\"text-align: right;\">\n",
       "      <th></th>\n",
       "      <th>0</th>\n",
       "      <th>1</th>\n",
       "      <th>2</th>\n",
       "      <th>3</th>\n",
       "      <th>4</th>\n",
       "      <th>5</th>\n",
       "      <th>6</th>\n",
       "      <th>7</th>\n",
       "      <th>8</th>\n",
       "      <th>9</th>\n",
       "      <th>...</th>\n",
       "      <th>62</th>\n",
       "      <th>63</th>\n",
       "      <th>64</th>\n",
       "      <th>65</th>\n",
       "      <th>66</th>\n",
       "      <th>67</th>\n",
       "      <th>68</th>\n",
       "      <th>69</th>\n",
       "      <th>70</th>\n",
       "      <th>71</th>\n",
       "    </tr>\n",
       "  </thead>\n",
       "  <tbody>\n",
       "    <tr>\n",
       "      <th>0</th>\n",
       "      <td>0.0</td>\n",
       "      <td>0.0</td>\n",
       "      <td>0.0</td>\n",
       "      <td>0.0</td>\n",
       "      <td>0.0</td>\n",
       "      <td>0.0</td>\n",
       "      <td>0.0</td>\n",
       "      <td>0.0</td>\n",
       "      <td>0.0</td>\n",
       "      <td>0.0</td>\n",
       "      <td>...</td>\n",
       "      <td>0.0</td>\n",
       "      <td>0.0</td>\n",
       "      <td>0.0</td>\n",
       "      <td>0.0</td>\n",
       "      <td>1.0</td>\n",
       "      <td>0.0</td>\n",
       "      <td>0.0</td>\n",
       "      <td>0.0</td>\n",
       "      <td>0.0</td>\n",
       "      <td>0.0</td>\n",
       "    </tr>\n",
       "    <tr>\n",
       "      <th>1</th>\n",
       "      <td>0.0</td>\n",
       "      <td>0.0</td>\n",
       "      <td>0.0</td>\n",
       "      <td>0.0</td>\n",
       "      <td>0.0</td>\n",
       "      <td>0.0</td>\n",
       "      <td>0.0</td>\n",
       "      <td>0.0</td>\n",
       "      <td>0.0</td>\n",
       "      <td>0.0</td>\n",
       "      <td>...</td>\n",
       "      <td>0.0</td>\n",
       "      <td>0.0</td>\n",
       "      <td>0.0</td>\n",
       "      <td>0.0</td>\n",
       "      <td>0.0</td>\n",
       "      <td>0.0</td>\n",
       "      <td>0.0</td>\n",
       "      <td>0.0</td>\n",
       "      <td>0.0</td>\n",
       "      <td>0.0</td>\n",
       "    </tr>\n",
       "    <tr>\n",
       "      <th>2</th>\n",
       "      <td>0.0</td>\n",
       "      <td>0.0</td>\n",
       "      <td>0.0</td>\n",
       "      <td>0.0</td>\n",
       "      <td>0.0</td>\n",
       "      <td>0.0</td>\n",
       "      <td>0.0</td>\n",
       "      <td>0.0</td>\n",
       "      <td>0.0</td>\n",
       "      <td>0.0</td>\n",
       "      <td>...</td>\n",
       "      <td>0.0</td>\n",
       "      <td>0.0</td>\n",
       "      <td>0.0</td>\n",
       "      <td>0.0</td>\n",
       "      <td>0.0</td>\n",
       "      <td>0.0</td>\n",
       "      <td>0.0</td>\n",
       "      <td>0.0</td>\n",
       "      <td>0.0</td>\n",
       "      <td>0.0</td>\n",
       "    </tr>\n",
       "    <tr>\n",
       "      <th>3</th>\n",
       "      <td>0.0</td>\n",
       "      <td>0.0</td>\n",
       "      <td>0.0</td>\n",
       "      <td>0.0</td>\n",
       "      <td>0.0</td>\n",
       "      <td>0.0</td>\n",
       "      <td>0.0</td>\n",
       "      <td>0.0</td>\n",
       "      <td>0.0</td>\n",
       "      <td>0.0</td>\n",
       "      <td>...</td>\n",
       "      <td>0.0</td>\n",
       "      <td>0.0</td>\n",
       "      <td>0.0</td>\n",
       "      <td>0.0</td>\n",
       "      <td>0.0</td>\n",
       "      <td>0.0</td>\n",
       "      <td>0.0</td>\n",
       "      <td>0.0</td>\n",
       "      <td>0.0</td>\n",
       "      <td>0.0</td>\n",
       "    </tr>\n",
       "    <tr>\n",
       "      <th>4</th>\n",
       "      <td>0.0</td>\n",
       "      <td>0.0</td>\n",
       "      <td>0.0</td>\n",
       "      <td>0.0</td>\n",
       "      <td>0.0</td>\n",
       "      <td>0.0</td>\n",
       "      <td>0.0</td>\n",
       "      <td>0.0</td>\n",
       "      <td>0.0</td>\n",
       "      <td>0.0</td>\n",
       "      <td>...</td>\n",
       "      <td>0.0</td>\n",
       "      <td>0.0</td>\n",
       "      <td>0.0</td>\n",
       "      <td>0.0</td>\n",
       "      <td>0.0</td>\n",
       "      <td>0.0</td>\n",
       "      <td>0.0</td>\n",
       "      <td>0.0</td>\n",
       "      <td>0.0</td>\n",
       "      <td>0.0</td>\n",
       "    </tr>\n",
       "    <tr>\n",
       "      <th>...</th>\n",
       "      <td>...</td>\n",
       "      <td>...</td>\n",
       "      <td>...</td>\n",
       "      <td>...</td>\n",
       "      <td>...</td>\n",
       "      <td>...</td>\n",
       "      <td>...</td>\n",
       "      <td>...</td>\n",
       "      <td>...</td>\n",
       "      <td>...</td>\n",
       "      <td>...</td>\n",
       "      <td>...</td>\n",
       "      <td>...</td>\n",
       "      <td>...</td>\n",
       "      <td>...</td>\n",
       "      <td>...</td>\n",
       "      <td>...</td>\n",
       "      <td>...</td>\n",
       "      <td>...</td>\n",
       "      <td>...</td>\n",
       "      <td>...</td>\n",
       "    </tr>\n",
       "    <tr>\n",
       "      <th>3870</th>\n",
       "      <td>0.0</td>\n",
       "      <td>0.0</td>\n",
       "      <td>0.0</td>\n",
       "      <td>0.0</td>\n",
       "      <td>0.0</td>\n",
       "      <td>0.0</td>\n",
       "      <td>0.0</td>\n",
       "      <td>0.0</td>\n",
       "      <td>0.0</td>\n",
       "      <td>0.0</td>\n",
       "      <td>...</td>\n",
       "      <td>0.0</td>\n",
       "      <td>0.0</td>\n",
       "      <td>0.0</td>\n",
       "      <td>0.0</td>\n",
       "      <td>0.0</td>\n",
       "      <td>0.0</td>\n",
       "      <td>0.0</td>\n",
       "      <td>0.0</td>\n",
       "      <td>0.0</td>\n",
       "      <td>0.0</td>\n",
       "    </tr>\n",
       "    <tr>\n",
       "      <th>3871</th>\n",
       "      <td>0.0</td>\n",
       "      <td>0.0</td>\n",
       "      <td>0.0</td>\n",
       "      <td>0.0</td>\n",
       "      <td>0.0</td>\n",
       "      <td>0.0</td>\n",
       "      <td>0.0</td>\n",
       "      <td>0.0</td>\n",
       "      <td>0.0</td>\n",
       "      <td>0.0</td>\n",
       "      <td>...</td>\n",
       "      <td>0.0</td>\n",
       "      <td>0.0</td>\n",
       "      <td>0.0</td>\n",
       "      <td>0.0</td>\n",
       "      <td>1.0</td>\n",
       "      <td>0.0</td>\n",
       "      <td>0.0</td>\n",
       "      <td>0.0</td>\n",
       "      <td>0.0</td>\n",
       "      <td>0.0</td>\n",
       "    </tr>\n",
       "    <tr>\n",
       "      <th>3872</th>\n",
       "      <td>0.0</td>\n",
       "      <td>0.0</td>\n",
       "      <td>0.0</td>\n",
       "      <td>0.0</td>\n",
       "      <td>0.0</td>\n",
       "      <td>0.0</td>\n",
       "      <td>0.0</td>\n",
       "      <td>0.0</td>\n",
       "      <td>1.0</td>\n",
       "      <td>0.0</td>\n",
       "      <td>...</td>\n",
       "      <td>0.0</td>\n",
       "      <td>0.0</td>\n",
       "      <td>0.0</td>\n",
       "      <td>0.0</td>\n",
       "      <td>0.0</td>\n",
       "      <td>0.0</td>\n",
       "      <td>1.0</td>\n",
       "      <td>0.0</td>\n",
       "      <td>0.0</td>\n",
       "      <td>0.0</td>\n",
       "    </tr>\n",
       "    <tr>\n",
       "      <th>3873</th>\n",
       "      <td>0.0</td>\n",
       "      <td>0.0</td>\n",
       "      <td>0.0</td>\n",
       "      <td>0.0</td>\n",
       "      <td>0.0</td>\n",
       "      <td>0.0</td>\n",
       "      <td>0.0</td>\n",
       "      <td>0.0</td>\n",
       "      <td>1.0</td>\n",
       "      <td>0.0</td>\n",
       "      <td>...</td>\n",
       "      <td>1.0</td>\n",
       "      <td>0.0</td>\n",
       "      <td>0.0</td>\n",
       "      <td>0.0</td>\n",
       "      <td>0.0</td>\n",
       "      <td>0.0</td>\n",
       "      <td>0.0</td>\n",
       "      <td>0.0</td>\n",
       "      <td>0.0</td>\n",
       "      <td>0.0</td>\n",
       "    </tr>\n",
       "    <tr>\n",
       "      <th>3874</th>\n",
       "      <td>0.0</td>\n",
       "      <td>0.0</td>\n",
       "      <td>0.0</td>\n",
       "      <td>0.0</td>\n",
       "      <td>0.0</td>\n",
       "      <td>0.0</td>\n",
       "      <td>0.0</td>\n",
       "      <td>0.0</td>\n",
       "      <td>0.0</td>\n",
       "      <td>0.0</td>\n",
       "      <td>...</td>\n",
       "      <td>0.0</td>\n",
       "      <td>0.0</td>\n",
       "      <td>0.0</td>\n",
       "      <td>0.0</td>\n",
       "      <td>0.0</td>\n",
       "      <td>0.0</td>\n",
       "      <td>0.0</td>\n",
       "      <td>0.0</td>\n",
       "      <td>0.0</td>\n",
       "      <td>0.0</td>\n",
       "    </tr>\n",
       "  </tbody>\n",
       "</table>\n",
       "<p>3875 rows × 72 columns</p>\n",
       "</div>"
      ],
      "text/plain": [
       "       0    1    2    3    4    5    6    7    8    9   ...   62   63   64  \\\n",
       "0     0.0  0.0  0.0  0.0  0.0  0.0  0.0  0.0  0.0  0.0  ...  0.0  0.0  0.0   \n",
       "1     0.0  0.0  0.0  0.0  0.0  0.0  0.0  0.0  0.0  0.0  ...  0.0  0.0  0.0   \n",
       "2     0.0  0.0  0.0  0.0  0.0  0.0  0.0  0.0  0.0  0.0  ...  0.0  0.0  0.0   \n",
       "3     0.0  0.0  0.0  0.0  0.0  0.0  0.0  0.0  0.0  0.0  ...  0.0  0.0  0.0   \n",
       "4     0.0  0.0  0.0  0.0  0.0  0.0  0.0  0.0  0.0  0.0  ...  0.0  0.0  0.0   \n",
       "...   ...  ...  ...  ...  ...  ...  ...  ...  ...  ...  ...  ...  ...  ...   \n",
       "3870  0.0  0.0  0.0  0.0  0.0  0.0  0.0  0.0  0.0  0.0  ...  0.0  0.0  0.0   \n",
       "3871  0.0  0.0  0.0  0.0  0.0  0.0  0.0  0.0  0.0  0.0  ...  0.0  0.0  0.0   \n",
       "3872  0.0  0.0  0.0  0.0  0.0  0.0  0.0  0.0  1.0  0.0  ...  0.0  0.0  0.0   \n",
       "3873  0.0  0.0  0.0  0.0  0.0  0.0  0.0  0.0  1.0  0.0  ...  1.0  0.0  0.0   \n",
       "3874  0.0  0.0  0.0  0.0  0.0  0.0  0.0  0.0  0.0  0.0  ...  0.0  0.0  0.0   \n",
       "\n",
       "       65   66   67   68   69   70   71  \n",
       "0     0.0  1.0  0.0  0.0  0.0  0.0  0.0  \n",
       "1     0.0  0.0  0.0  0.0  0.0  0.0  0.0  \n",
       "2     0.0  0.0  0.0  0.0  0.0  0.0  0.0  \n",
       "3     0.0  0.0  0.0  0.0  0.0  0.0  0.0  \n",
       "4     0.0  0.0  0.0  0.0  0.0  0.0  0.0  \n",
       "...   ...  ...  ...  ...  ...  ...  ...  \n",
       "3870  0.0  0.0  0.0  0.0  0.0  0.0  0.0  \n",
       "3871  0.0  1.0  0.0  0.0  0.0  0.0  0.0  \n",
       "3872  0.0  0.0  0.0  1.0  0.0  0.0  0.0  \n",
       "3873  0.0  0.0  0.0  0.0  0.0  0.0  0.0  \n",
       "3874  0.0  0.0  0.0  0.0  0.0  0.0  0.0  \n",
       "\n",
       "[3875 rows x 72 columns]"
      ]
     },
     "execution_count": 87,
     "metadata": {},
     "output_type": "execute_result"
    }
   ],
   "source": [
    "ohedf=pd.DataFrame(ohe)\n",
    "ohedf"
   ]
  },
  {
   "cell_type": "markdown",
   "id": "d39d3b50",
   "metadata": {},
   "source": [
    "## join the data back together"
   ]
  },
  {
   "cell_type": "code",
   "execution_count": 88,
   "id": "b43df129",
   "metadata": {},
   "outputs": [
    {
     "data": {
      "text/html": [
       "<div>\n",
       "<style scoped>\n",
       "    .dataframe tbody tr th:only-of-type {\n",
       "        vertical-align: middle;\n",
       "    }\n",
       "\n",
       "    .dataframe tbody tr th {\n",
       "        vertical-align: top;\n",
       "    }\n",
       "\n",
       "    .dataframe thead th {\n",
       "        text-align: right;\n",
       "    }\n",
       "</style>\n",
       "<table border=\"1\" class=\"dataframe\">\n",
       "  <thead>\n",
       "    <tr style=\"text-align: right;\">\n",
       "      <th></th>\n",
       "      <th>0</th>\n",
       "      <th>1</th>\n",
       "      <th>2</th>\n",
       "      <th>3</th>\n",
       "      <th>4</th>\n",
       "      <th>5</th>\n",
       "      <th>6</th>\n",
       "      <th>7</th>\n",
       "      <th>8</th>\n",
       "      <th>9</th>\n",
       "      <th>...</th>\n",
       "      <th>3</th>\n",
       "      <th>4</th>\n",
       "      <th>5</th>\n",
       "      <th>6</th>\n",
       "      <th>7</th>\n",
       "      <th>8</th>\n",
       "      <th>9</th>\n",
       "      <th>10</th>\n",
       "      <th>11</th>\n",
       "      <th>12</th>\n",
       "    </tr>\n",
       "  </thead>\n",
       "  <tbody>\n",
       "    <tr>\n",
       "      <th>0</th>\n",
       "      <td>0.0</td>\n",
       "      <td>0.0</td>\n",
       "      <td>0.0</td>\n",
       "      <td>0.0</td>\n",
       "      <td>0.0</td>\n",
       "      <td>0.0</td>\n",
       "      <td>0.0</td>\n",
       "      <td>0.0</td>\n",
       "      <td>0.0</td>\n",
       "      <td>0.0</td>\n",
       "      <td>...</td>\n",
       "      <td>0.184576</td>\n",
       "      <td>-0.545563</td>\n",
       "      <td>0.360566</td>\n",
       "      <td>-0.610851</td>\n",
       "      <td>1.552188</td>\n",
       "      <td>0.102417</td>\n",
       "      <td>0.080667</td>\n",
       "      <td>-1.030400</td>\n",
       "      <td>-0.064658</td>\n",
       "      <td>-1.316593</td>\n",
       "    </tr>\n",
       "    <tr>\n",
       "      <th>1</th>\n",
       "      <td>0.0</td>\n",
       "      <td>0.0</td>\n",
       "      <td>0.0</td>\n",
       "      <td>0.0</td>\n",
       "      <td>0.0</td>\n",
       "      <td>0.0</td>\n",
       "      <td>0.0</td>\n",
       "      <td>0.0</td>\n",
       "      <td>0.0</td>\n",
       "      <td>0.0</td>\n",
       "      <td>...</td>\n",
       "      <td>-0.030619</td>\n",
       "      <td>-0.439689</td>\n",
       "      <td>0.297809</td>\n",
       "      <td>0.442200</td>\n",
       "      <td>-1.797132</td>\n",
       "      <td>-0.323965</td>\n",
       "      <td>-0.221144</td>\n",
       "      <td>-1.338820</td>\n",
       "      <td>-0.064658</td>\n",
       "      <td>-0.098312</td>\n",
       "    </tr>\n",
       "    <tr>\n",
       "      <th>2</th>\n",
       "      <td>0.0</td>\n",
       "      <td>0.0</td>\n",
       "      <td>0.0</td>\n",
       "      <td>0.0</td>\n",
       "      <td>0.0</td>\n",
       "      <td>0.0</td>\n",
       "      <td>0.0</td>\n",
       "      <td>0.0</td>\n",
       "      <td>0.0</td>\n",
       "      <td>0.0</td>\n",
       "      <td>...</td>\n",
       "      <td>-0.542434</td>\n",
       "      <td>-0.545563</td>\n",
       "      <td>0.201278</td>\n",
       "      <td>-0.189631</td>\n",
       "      <td>-2.308834</td>\n",
       "      <td>-0.665070</td>\n",
       "      <td>-0.498317</td>\n",
       "      <td>-0.964310</td>\n",
       "      <td>-0.041570</td>\n",
       "      <td>-1.316593</td>\n",
       "    </tr>\n",
       "    <tr>\n",
       "      <th>3</th>\n",
       "      <td>0.0</td>\n",
       "      <td>0.0</td>\n",
       "      <td>0.0</td>\n",
       "      <td>0.0</td>\n",
       "      <td>0.0</td>\n",
       "      <td>0.0</td>\n",
       "      <td>0.0</td>\n",
       "      <td>0.0</td>\n",
       "      <td>0.0</td>\n",
       "      <td>0.0</td>\n",
       "      <td>...</td>\n",
       "      <td>-0.129492</td>\n",
       "      <td>-0.369106</td>\n",
       "      <td>-0.312184</td>\n",
       "      <td>-0.716156</td>\n",
       "      <td>0.807894</td>\n",
       "      <td>-0.187523</td>\n",
       "      <td>-0.104115</td>\n",
       "      <td>-1.236931</td>\n",
       "      <td>-0.064658</td>\n",
       "      <td>0.830133</td>\n",
       "    </tr>\n",
       "    <tr>\n",
       "      <th>4</th>\n",
       "      <td>0.0</td>\n",
       "      <td>0.0</td>\n",
       "      <td>0.0</td>\n",
       "      <td>0.0</td>\n",
       "      <td>0.0</td>\n",
       "      <td>0.0</td>\n",
       "      <td>0.0</td>\n",
       "      <td>0.0</td>\n",
       "      <td>0.0</td>\n",
       "      <td>0.0</td>\n",
       "      <td>...</td>\n",
       "      <td>0.690575</td>\n",
       "      <td>-0.545563</td>\n",
       "      <td>0.187700</td>\n",
       "      <td>-0.505546</td>\n",
       "      <td>-0.448101</td>\n",
       "      <td>0.727776</td>\n",
       "      <td>0.949143</td>\n",
       "      <td>-0.929613</td>\n",
       "      <td>0.761589</td>\n",
       "      <td>-1.316593</td>\n",
       "    </tr>\n",
       "  </tbody>\n",
       "</table>\n",
       "<p>5 rows × 85 columns</p>\n",
       "</div>"
      ],
      "text/plain": [
       "    0    1    2    3    4    5    6    7    8    9   ...        3         4   \\\n",
       "0  0.0  0.0  0.0  0.0  0.0  0.0  0.0  0.0  0.0  0.0  ...  0.184576 -0.545563   \n",
       "1  0.0  0.0  0.0  0.0  0.0  0.0  0.0  0.0  0.0  0.0  ... -0.030619 -0.439689   \n",
       "2  0.0  0.0  0.0  0.0  0.0  0.0  0.0  0.0  0.0  0.0  ... -0.542434 -0.545563   \n",
       "3  0.0  0.0  0.0  0.0  0.0  0.0  0.0  0.0  0.0  0.0  ... -0.129492 -0.369106   \n",
       "4  0.0  0.0  0.0  0.0  0.0  0.0  0.0  0.0  0.0  0.0  ...  0.690575 -0.545563   \n",
       "\n",
       "         5         6         7         8         9         10        11  \\\n",
       "0  0.360566 -0.610851  1.552188  0.102417  0.080667 -1.030400 -0.064658   \n",
       "1  0.297809  0.442200 -1.797132 -0.323965 -0.221144 -1.338820 -0.064658   \n",
       "2  0.201278 -0.189631 -2.308834 -0.665070 -0.498317 -0.964310 -0.041570   \n",
       "3 -0.312184 -0.716156  0.807894 -0.187523 -0.104115 -1.236931 -0.064658   \n",
       "4  0.187700 -0.505546 -0.448101  0.727776  0.949143 -0.929613  0.761589   \n",
       "\n",
       "         12  \n",
       "0 -1.316593  \n",
       "1 -0.098312  \n",
       "2 -1.316593  \n",
       "3  0.830133  \n",
       "4 -1.316593  \n",
       "\n",
       "[5 rows x 85 columns]"
      ]
     },
     "execution_count": 88,
     "metadata": {},
     "output_type": "execute_result"
    }
   ],
   "source": [
    "newdata=pd.concat([ohedf,scaleddf],axis=1)\n",
    "newdata.head()"
   ]
  },
  {
   "cell_type": "markdown",
   "id": "75cf7ff5",
   "metadata": {},
   "source": [
    "## bring in and apply model "
   ]
  },
  {
   "cell_type": "markdown",
   "id": "bb6a2eca",
   "metadata": {},
   "source": [
    "### train test split "
   ]
  },
  {
   "cell_type": "code",
   "execution_count": 89,
   "id": "24d45217",
   "metadata": {},
   "outputs": [],
   "source": [
    "# train test split \n",
    "from sklearn.model_selection import train_test_split\n",
    "X_train,X_test,y_train,y_test=train_test_split(newdata,y, test_size=0.4, random_state=40)\n"
   ]
  },
  {
   "cell_type": "code",
   "execution_count": 90,
   "id": "f07fb011",
   "metadata": {},
   "outputs": [
    {
     "data": {
      "text/plain": [
       "(2325, 85)"
      ]
     },
     "execution_count": 90,
     "metadata": {},
     "output_type": "execute_result"
    }
   ],
   "source": [
    "X_train.shape"
   ]
  },
  {
   "cell_type": "code",
   "execution_count": 91,
   "id": "90ffc317",
   "metadata": {},
   "outputs": [
    {
     "data": {
      "text/plain": [
       "(2325,)"
      ]
     },
     "execution_count": 91,
     "metadata": {},
     "output_type": "execute_result"
    }
   ],
   "source": [
    "y_train.shape"
   ]
  },
  {
   "cell_type": "code",
   "execution_count": 92,
   "id": "d062f8b5",
   "metadata": {},
   "outputs": [
    {
     "data": {
      "text/plain": [
       "(1550, 85)"
      ]
     },
     "execution_count": 92,
     "metadata": {},
     "output_type": "execute_result"
    }
   ],
   "source": [
    "X_test.shape"
   ]
  },
  {
   "cell_type": "code",
   "execution_count": 93,
   "id": "b13ea1bd",
   "metadata": {},
   "outputs": [
    {
     "data": {
      "text/plain": [
       "(1550,)"
      ]
     },
     "execution_count": 93,
     "metadata": {},
     "output_type": "execute_result"
    }
   ],
   "source": [
    "y_test.shape"
   ]
  },
  {
   "cell_type": "markdown",
   "id": "97b9198f",
   "metadata": {},
   "source": [
    "### model"
   ]
  },
  {
   "cell_type": "code",
   "execution_count": 94,
   "id": "0a744ba8",
   "metadata": {},
   "outputs": [],
   "source": [
    "# get the model and the metrics \n",
    "from sklearn import linear_model \n",
    "from sklearn.metrics import r2_score, mean_squared_error "
   ]
  },
  {
   "cell_type": "code",
   "execution_count": 95,
   "id": "06ccf37d",
   "metadata": {},
   "outputs": [],
   "source": [
    "# candidate one model \n",
    "\n",
    "lm=linear_model.LinearRegression()"
   ]
  },
  {
   "cell_type": "code",
   "execution_count": 96,
   "id": "b1c98bb2",
   "metadata": {},
   "outputs": [],
   "source": [
    "#set up model and train it \n",
    "model=lm.fit(X_train,y_train)\n",
    "#get the predictions on X test \n",
    "predictions=lm.predict(X_test)"
   ]
  },
  {
   "cell_type": "code",
   "execution_count": 97,
   "id": "64b77b93",
   "metadata": {},
   "outputs": [
    {
     "data": {
      "text/plain": [
       "array([ 8.33043805, 15.35071119, 16.25150452, ...,  7.70500468,\n",
       "       18.74543518,  9.67174374])"
      ]
     },
     "execution_count": 97,
     "metadata": {},
     "output_type": "execute_result"
    }
   ],
   "source": [
    "predictions"
   ]
  },
  {
   "cell_type": "code",
   "execution_count": 98,
   "id": "ba71696d",
   "metadata": {},
   "outputs": [
    {
     "data": {
      "text/plain": [
       "0.34266662996130726"
      ]
     },
     "execution_count": 98,
     "metadata": {},
     "output_type": "execute_result"
    }
   ],
   "source": [
    "#evaluate how good our predictions are \n",
    "r2_score(y_test,predictions)\n",
    "# this is how much of the variation the model explains"
   ]
  },
  {
   "cell_type": "code",
   "execution_count": 99,
   "id": "0f82137e",
   "metadata": {},
   "outputs": [
    {
     "data": {
      "text/plain": [
       "62.76432384014599"
      ]
     },
     "execution_count": 99,
     "metadata": {},
     "output_type": "execute_result"
    }
   ],
   "source": [
    "mean_squared_error(y_test,predictions)\n",
    "#this is how accurate we can be in monetary terms "
   ]
  },
  {
   "cell_type": "markdown",
   "id": "ac3bb9ce",
   "metadata": {},
   "source": [
    "## summarise what we have for this candidate"
   ]
  },
  {
   "cell_type": "markdown",
   "id": "fe4af0bf",
   "metadata": {},
   "source": [
    "+ I am able to predict accurately the donation amount +/- 62$"
   ]
  }
 ],
 "metadata": {
  "kernelspec": {
   "display_name": "Python 3 (ipykernel)",
   "language": "python",
   "name": "python3"
  },
  "language_info": {
   "codemirror_mode": {
    "name": "ipython",
    "version": 3
   },
   "file_extension": ".py",
   "mimetype": "text/x-python",
   "name": "python",
   "nbconvert_exporter": "python",
   "pygments_lexer": "ipython3",
   "version": "3.9.7"
  },
  "toc": {
   "base_numbering": 1,
   "nav_menu": {},
   "number_sections": true,
   "sideBar": true,
   "skip_h1_title": false,
   "title_cell": "Table of Contents",
   "title_sidebar": "Contents",
   "toc_cell": false,
   "toc_position": {},
   "toc_section_display": true,
   "toc_window_display": true
  }
 },
 "nbformat": 4,
 "nbformat_minor": 5
}
